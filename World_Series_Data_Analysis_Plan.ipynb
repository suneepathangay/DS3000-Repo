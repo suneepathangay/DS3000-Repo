{
 "cells": [
  {
   "cell_type": "markdown",
   "metadata": {
    "id": "r8DvQZO8Mpv6"
   },
   "source": [
    "# **Data and Analysis Plan: Boston Marathon Weather Conditions**\n",
    "\n",
    "- Justin Radist\n",
    "- Suneet Pathangay\n",
    "- Zhenzhen Liu"
   ]
  },
  {
   "cell_type": "markdown",
   "metadata": {
    "id": "cwixuBfBNKN7"
   },
   "source": [
    "## Project Goal:"
   ]
  },
  {
   "cell_type": "markdown",
   "metadata": {},
   "source": [
    "Our project aims to explore the relationship between various MLB team and individual player statistics and the performance of teams in the playoffs and World Series. We have chosen to focus on ... for the last ... years. Specifically, we ask:\n",
    "- \n",
    "- \n",
    "\n",
    "We are using https://www.baseball-reference.com/ for our main data source, which we will webscrape from. We are not using any API."
   ]
  },
  {
   "cell_type": "markdown",
   "metadata": {
    "id": "6hRRwgv8NW7J"
   },
   "source": [
    "We have chosen to focus on the results for the top 100 men & women for the Boston Marathon for the last twenty-two years. Specifically, we ask:\n",
    "- What are the optimal weather conditions for peak performance/fastest speed?\n",
    "- Does the weather impact men differently than women?"
   ]
  },
  {
   "cell_type": "markdown",
   "metadata": {
    "id": "xM_kK_6ol2-x"
   },
   "source": [
    "## Pipeline Overview:"
   ]
  },
  {
   "cell_type": "markdown",
   "metadata": {
    "id": "-W7JkfDsmIl_"
   },
   "source": [
    "For the Weather API:\n",
    "- call_weather()\n",
    " - requests the weather data for a certain latitude, longitude, and date\n",
    "- get_historical_weather()\n",
    " - using call_weather(), compiles historical weather data for given parameters into a clean dataframe"
   ]
  },
  {
   "cell_type": "markdown",
   "metadata": {
    "id": "rOrHrSQwmPNF"
   },
   "source": [
    "For scraping the Baseball Reference website:\n",
    "- get_player_url(player) and get_team_url(team)\n",
    "  - builds the URLs needed to access a certain player's or team's statistics page.\n",
    "- then, get_player_df(), get_team_batting_df(), and get_team_pitching_df()\n",
    "  - builds dataframes of a player's common careers stats table, a team's common batting stats by roster member for a single season, and a team's common pitching stats by pitching staff member for a single season, respectively.\n",
    " \n",
    "These functions utilize other functions we've already written that perform tasks such as getting BeautifulSoup objects a certain player's or team's page on Baseball Reference and creating dictionaries from the stat tables on these pages.\n",
    "\n",
    "\n",
    "\n",
    "For scraping the marathon guide website:\n",
    "- get_top_100() \n",
    "  - builds a dataframe of top 100 marathon runners based on inputted race date and sex\n",
    "\n",
    "This is the only function we have at the moment. It will be utilized with a dictionary of marathon dates in a for-loop to create a dataframe for all of the finish times throughout the years. "
   ]
  },
  {
   "cell_type": "markdown",
   "metadata": {
    "id": "rclg500lS2Oc"
   },
   "source": [
    "### Pipeline:"
   ]
  },
  {
   "cell_type": "markdown",
   "metadata": {},
   "source": [
    "#### 1. Building URLs and Webscraping"
   ]
  },
  {
   "cell_type": "code",
   "execution_count": 1,
   "metadata": {},
   "outputs": [],
   "source": [
    "import requests\n",
    "from bs4 import BeautifulSoup\n",
    "import pandas as pd"
   ]
  },
  {
   "cell_type": "code",
   "execution_count": null,
   "metadata": {},
   "outputs": [],
   "source": [
    "def build_player_url(player):\n",
    "    \"\"\" Constructs the URL of any MLB player's Baseball Reference stat page\n",
    "    \n",
    "    Args:\n",
    "        player (str): a baseball player's full name\n",
    "    \n",
    "    Returns:\n",
    "        url (str): the URL that can be used to retrieve the given player's\n",
    "        stats from BaseballReference.com\n",
    "    \"\"\"\n",
    "    first_init = player[0]\n",
    "    first_two_letters = player[0:2]\n",
    "    player_name_list = player.split(' ')\n",
    "    # get last name except for last letter. Gets position 1 instead of -1 in case of a Jr./Sr. or II/III\n",
    "    last_name = player_name_list[1][:-1]\n",
    "    \n",
    "    url = f\"https://www.baseball-reference.com/players/{first_init}/{last_name}{first_two_letters}01.shtml\"\n",
    "    \n",
    "    return url"
   ]
  },
  {
   "cell_type": "code",
   "execution_count": null,
   "metadata": {},
   "outputs": [],
   "source": [
    "def build_team_url(team, year):\n",
    "    \"\"\" Constructs the URL of any MLB team's Baseball Reference stat page for a single season\n",
    "    \n",
    "    Args:\n",
    "        team (str): the name or 3-letter abbreviation of one of the 30 current MLB teams in existence\n",
    "        year (str or int): the year/season to get team data for\n",
    "    \n",
    "    Returns:\n",
    "        url (str): the URL that can be used to retrieve the given team's\n",
    "        stats for the given year from BaseballReference.com\n",
    "    \"\"\"\n",
    "    pass"
   ]
  },
  {
   "cell_type": "code",
   "execution_count": null,
   "metadata": {},
   "outputs": [],
   "source": [
    "player = 'carlos correa'\n",
    "team = 'NYM'\n",
    "season = '2022'\n",
    "player_url = build_player_url(player)\n",
    "team_url = build_team_url(team, season)"
   ]
  },
  {
   "cell_type": "code",
   "execution_count": null,
   "metadata": {},
   "outputs": [],
   "source": [
    "def get_player_soup(url):\n",
    "    \"\"\" gets a BeautifulSoup object of a MLB player's BaseballReference.com\n",
    "        page by webscraping the page's HTML code\n",
    "    \n",
    "    Args:\n",
    "        url (str): the URL that can be used to retrieve the given player's\n",
    "        stats from BaseballReference.com\n",
    "    \n",
    "    Returns:\n",
    "        soup (BeautifulSoup): a beautiful soup object of the given MLB\n",
    "        player's BaseballReference.com page\n",
    "    \"\"\"\n",
    "    html = requests.get(url).text\n",
    "    soup = BeautifulSoup(html)\n",
    "    \n",
    "    return soup"
   ]
  },
  {
   "cell_type": "code",
   "execution_count": null,
   "metadata": {},
   "outputs": [],
   "source": [
    "def get_soup(url):\n",
    "    \"\"\" gets a BeautifulSoup object of a MLB player's or team's BaseballReference.com\n",
    "        page by webscraping the page's HTML code\n",
    "    \n",
    "    Args:\n",
    "        url (str): the URL that can be used to retrieve the given player's or team's\n",
    "        stats from BaseballReference.com\n",
    "    \n",
    "    Returns:\n",
    "        soup (BeautifulSoup): a beautiful soup object of the given MLB\n",
    "        player's or team's BaseballReference.com page\n",
    "    \"\"\"\n",
    "    html = requests.get(url).text\n",
    "    soup = BeautifulSoup(html)\n",
    "    \n",
    "    return soup"
   ]
  },
  {
   "cell_type": "code",
   "execution_count": null,
   "metadata": {},
   "outputs": [],
   "source": [
    "player_soup = get_player_soup(player_url)\n",
    "team_soup = get_soup(team_url)"
   ]
  },
  {
   "cell_type": "markdown",
   "metadata": {},
   "source": [
    "#### 2. Cleaning Data and Building Dataframes"
   ]
  },
  {
   "cell_type": "code",
   "execution_count": null,
   "metadata": {},
   "outputs": [],
   "source": [
    "def get_player_dict(player_soup):\n",
    "    \"\"\" creates a dictionary of all an baseball player's MLB stats\n",
    "        by web scraping BaseballReference.com\n",
    "    \n",
    "    Args:\n",
    "        player_soup (BeautifulSoup): a beautiful soup object of a MLB\n",
    "        player's BaseballReference.com page\n",
    "    \n",
    "    Returns:\n",
    "        player_dict (dict): a dictionary of all the given player's MLB\n",
    "        stats, where the keys are the years played in the MLB\n",
    "    \"\"\"\n",
    "    # build dictionary of player stats row by row (season by season) without knowing years they've played\n",
    "    player_stats = player_soup.find_all(class_='row_summable', id='batting_standard')[0].find_all('tbody')[0].find_all(class_='full')\n",
    "    player_dict = {}\n",
    "    for item in player_stats:\n",
    "        # list will add current year's stats to\n",
    "        temp_list = []\n",
    "        # get list of tags, where each tag is different stat for current year\n",
    "        tds = item.find_all('td')\n",
    "        # loop through the tags and add each tags' text (stat) to the temp list\n",
    "        for td in tds:\n",
    "            temp_list.append(td.text)\n",
    "        # add current list of stats to the year they correspond to\n",
    "        player_dict[item.find('th').text] = temp_list\n",
    "    \n",
    "    return player_dict"
   ]
  },
  {
   "cell_type": "code",
   "execution_count": null,
   "metadata": {},
   "outputs": [],
   "source": [
    "def get_team_dict(team_soup, stat_type):\n",
    "    \"\"\" creates a dictionary of all an baseball player's MLB stats\n",
    "        by web scraping BaseballReference.com\n",
    "    \n",
    "    Args:\n",
    "        team_soup (BeautifulSoup): a beautiful soup object of a MLB\n",
    "        team's BaseballReference.com page\n",
    "        stat_type (str): specify if want a team's batting stats or pitching stats\n",
    "    \n",
    "    Returns:\n",
    "        team_dict (dict): a dictionary of all the team's stats (either batting or pitching),\n",
    "        where the keys are the players on the team's roster that season\n",
    "    \"\"\"\n",
    "    pass"
   ]
  },
  {
   "cell_type": "code",
   "execution_count": null,
   "metadata": {},
   "outputs": [],
   "source": [
    "player_dict = get_player_dict(player_soup)\n",
    "team_dict = get_team_dict(team_soup)"
   ]
  },
  {
   "cell_type": "code",
   "execution_count": null,
   "metadata": {},
   "outputs": [],
   "source": [
    "# get player stat names (used for df col names for a player). [1:] gets rid of 'Year'\n",
    "header = player_soup.find_all(class_='row_summable')[0].find_all(attrs={'aria-label': True})[1:]\n",
    "stat_names = []\n",
    "for item in header:\n",
    "    stat_names.append(item.text)\n",
    "\n",
    "# get team stat names\n",
    "pass"
   ]
  },
  {
   "cell_type": "code",
   "execution_count": null,
   "metadata": {},
   "outputs": [],
   "source": [
    "def get_player_df(player_dict):\n",
    "    \"\"\" creates a df of all a baseball player's MLB stats\n",
    "    \n",
    "    Args:\n",
    "        player_soup (BeautifulSoup): a dictionary of a MLB\n",
    "        player's career stats by season\n",
    "    \n",
    "    Returns:\n",
    "        player_df (pd.DataFrame): a df of all the given player's MLB\n",
    "        stats\n",
    "    \"\"\"\n",
    "    player_df = pd.DataFrame()\n",
    "\n",
    "    for year in player_dict:\n",
    "        player_series = pd.Series(player_dict[year], index=stat_names)\n",
    "        player_df = pd.concat([player_df, player_series.to_frame().T])\n",
    "\n",
    "    #player_df.columns = stat_names\n",
    "    player_df.index = player_dict.keys()\n",
    "    \n",
    "    return player_df"
   ]
  },
  {
   "cell_type": "code",
   "execution_count": null,
   "metadata": {},
   "outputs": [],
   "source": [
    "def get_team_df(team_dict):\n",
    "    \"\"\" creates a df of a team's MLB stats (either batting or pitching) by player for a given season\n",
    "    \n",
    "    Args:\n",
    "        team_soup (BeautifulSoup): a dictionary of a team's stats by player for a single season\n",
    "    \n",
    "    Returns:\n",
    "        team_df (pd.DataFrame): a df of all the given team's stats for a single season where each\n",
    "        row is a player on the team for that year\n",
    "    \"\"\"\n",
    "    pass"
   ]
  },
  {
   "cell_type": "code",
   "execution_count": null,
   "metadata": {},
   "outputs": [],
   "source": [
    "player_df = get_player_df(player_dict)\n",
    "player_df.head()"
   ]
  },
  {
   "cell_type": "code",
   "execution_count": null,
   "metadata": {},
   "outputs": [],
   "source": [
    "team_df = get_team_df(team_dict)\n",
    "team_df.head()"
   ]
  },
  {
   "cell_type": "markdown",
   "metadata": {
    "id": "i2GupcyvZkcC"
   },
   "source": [
    "#### 1. Weather API Code"
   ]
  },
  {
   "cell_type": "code",
   "execution_count": 1,
   "metadata": {
    "id": "bPNnaSjGS3r_"
   },
   "outputs": [],
   "source": [
    "## Weather API Code\n",
    "\n",
    "import requests\n",
    "import json\n",
    "\n",
    "# function to request weather data\n",
    "def call_weather(latlon, date):\n",
    "    '''\n",
    "    returns historical weather data for a given date and location\n",
    "    \n",
    "    args:\n",
    "        latlon (tuple): tuple (lat, long)\n",
    "        date (str): date in format YYYY-MM-DD\n",
    "    \n",
    "    out:\n",
    "        weather_dict (json): return from API\n",
    "    '''\n",
    "    # separating tuple into lat and lon\n",
    "    lat, lon = latlon\n",
    "    # creating url to request\n",
    "    url = f'https://archive-api.open-meteo.com/v1/era5?latitude={lat}&longitude={lon}&start_date={date}&end_date={date}&hourly=temperature_2m,relativehumidity_2m,apparent_temperature,precipitation,cloudcover,windspeed_10m&temperature_unit=fahrenheit&windspeed_unit=mph&precipitation_unit=inch'\n",
    "    url_text = requests.get(url).text\n",
    "    \n",
    "    # convert json to a nested dict\n",
    "    weather_dict = json.loads(url_text)\n",
    "    return weather_dict\n",
    "\n"
   ]
  },
  {
   "cell_type": "code",
   "execution_count": 2,
   "metadata": {
    "colab": {
     "base_uri": "https://localhost:8080/",
     "height": 1000
    },
    "id": "E0Nftg2CTJq0",
    "outputId": "aada18cb-017b-4611-f72f-d60fa00685d7"
   },
   "outputs": [
    {
     "data": {
      "text/html": [
       "<div>\n",
       "<style scoped>\n",
       "    .dataframe tbody tr th:only-of-type {\n",
       "        vertical-align: middle;\n",
       "    }\n",
       "\n",
       "    .dataframe tbody tr th {\n",
       "        vertical-align: top;\n",
       "    }\n",
       "\n",
       "    .dataframe thead th {\n",
       "        text-align: right;\n",
       "    }\n",
       "</style>\n",
       "<table border=\"1\" class=\"dataframe\">\n",
       "  <thead>\n",
       "    <tr style=\"text-align: right;\">\n",
       "      <th></th>\n",
       "      <th>location</th>\n",
       "      <th>date</th>\n",
       "      <th>start_temp</th>\n",
       "      <th>temp_diff</th>\n",
       "      <th>start_humidity</th>\n",
       "      <th>humidity_diff</th>\n",
       "      <th>start_apparent_temp</th>\n",
       "      <th>apparent_temp_diff</th>\n",
       "      <th>start_cover</th>\n",
       "      <th>cover_diff</th>\n",
       "      <th>start_precip</th>\n",
       "      <th>precip_diff</th>\n",
       "      <th>start_windspeed</th>\n",
       "      <th>windspeed_diff</th>\n",
       "    </tr>\n",
       "  </thead>\n",
       "  <tbody>\n",
       "    <tr>\n",
       "      <th>0</th>\n",
       "      <td>boston</td>\n",
       "      <td>2022-04-18</td>\n",
       "      <td>34.3</td>\n",
       "      <td>3.0</td>\n",
       "      <td>76</td>\n",
       "      <td>5</td>\n",
       "      <td>27.3</td>\n",
       "      <td>3.6</td>\n",
       "      <td>0</td>\n",
       "      <td>0</td>\n",
       "      <td>0.000</td>\n",
       "      <td>0.000</td>\n",
       "      <td>5.8</td>\n",
       "      <td>0.1</td>\n",
       "    </tr>\n",
       "    <tr>\n",
       "      <th>1</th>\n",
       "      <td>boston</td>\n",
       "      <td>2021-10-11</td>\n",
       "      <td>56.4</td>\n",
       "      <td>3.4</td>\n",
       "      <td>99</td>\n",
       "      <td>-3</td>\n",
       "      <td>55.5</td>\n",
       "      <td>3.9</td>\n",
       "      <td>90</td>\n",
       "      <td>2</td>\n",
       "      <td>0.000</td>\n",
       "      <td>0.000</td>\n",
       "      <td>6.6</td>\n",
       "      <td>1.0</td>\n",
       "    </tr>\n",
       "    <tr>\n",
       "      <th>2</th>\n",
       "      <td>boston</td>\n",
       "      <td>2019-04-15</td>\n",
       "      <td>61.0</td>\n",
       "      <td>0.0</td>\n",
       "      <td>97</td>\n",
       "      <td>2</td>\n",
       "      <td>57.6</td>\n",
       "      <td>1.7</td>\n",
       "      <td>100</td>\n",
       "      <td>0</td>\n",
       "      <td>0.000</td>\n",
       "      <td>0.083</td>\n",
       "      <td>16.2</td>\n",
       "      <td>-3.4</td>\n",
       "    </tr>\n",
       "    <tr>\n",
       "      <th>3</th>\n",
       "      <td>boston</td>\n",
       "      <td>2018-04-16</td>\n",
       "      <td>33.0</td>\n",
       "      <td>4.3</td>\n",
       "      <td>100</td>\n",
       "      <td>-4</td>\n",
       "      <td>23.8</td>\n",
       "      <td>2.3</td>\n",
       "      <td>100</td>\n",
       "      <td>0</td>\n",
       "      <td>0.012</td>\n",
       "      <td>0.004</td>\n",
       "      <td>12.9</td>\n",
       "      <td>6.3</td>\n",
       "    </tr>\n",
       "    <tr>\n",
       "      <th>4</th>\n",
       "      <td>boston</td>\n",
       "      <td>2017-04-17</td>\n",
       "      <td>59.2</td>\n",
       "      <td>0.8</td>\n",
       "      <td>90</td>\n",
       "      <td>-3</td>\n",
       "      <td>57.7</td>\n",
       "      <td>0.3</td>\n",
       "      <td>10</td>\n",
       "      <td>4</td>\n",
       "      <td>0.000</td>\n",
       "      <td>0.000</td>\n",
       "      <td>8.3</td>\n",
       "      <td>1.4</td>\n",
       "    </tr>\n",
       "  </tbody>\n",
       "</table>\n",
       "</div>"
      ],
      "text/plain": [
       "  location        date  start_temp  temp_diff  start_humidity  humidity_diff  \\\n",
       "0   boston  2022-04-18        34.3        3.0              76              5   \n",
       "1   boston  2021-10-11        56.4        3.4              99             -3   \n",
       "2   boston  2019-04-15        61.0        0.0              97              2   \n",
       "3   boston  2018-04-16        33.0        4.3             100             -4   \n",
       "4   boston  2017-04-17        59.2        0.8              90             -3   \n",
       "\n",
       "   start_apparent_temp  apparent_temp_diff  start_cover  cover_diff  \\\n",
       "0                 27.3                 3.6            0           0   \n",
       "1                 55.5                 3.9           90           2   \n",
       "2                 57.6                 1.7          100           0   \n",
       "3                 23.8                 2.3          100           0   \n",
       "4                 57.7                 0.3           10           4   \n",
       "\n",
       "   start_precip  precip_diff  start_windspeed  windspeed_diff  \n",
       "0         0.000        0.000              5.8             0.1  \n",
       "1         0.000        0.000              6.6             1.0  \n",
       "2         0.000        0.083             16.2            -3.4  \n",
       "3         0.012        0.004             12.9             6.3  \n",
       "4         0.000        0.000              8.3             1.4  "
      ]
     },
     "execution_count": 2,
     "metadata": {},
     "output_type": "execute_result"
    }
   ],
   "source": [
    "import pandas as pd\n",
    "\n",
    "# format of data that we want to look for\n",
    "race_dict = {\n",
    "    'boston': {\n",
    "        'start_latlon': (42.22980835608579, -71.51816911558873),\n",
    "        'finish_latlon': (42.3497543253191, -71.07859571477307),\n",
    "        'race_dates': ['2022-04-18', '2021-10-11', '2019-04-15', '2018-04-16', '2017-04-17',\n",
    "                      '2016-04-18','2015-04-20','2014-04-21','2013-04-15','2012-04-16',\n",
    "                      '2011-04-18','2010-04-19','2009-04-20','2008-04-21','2007-04-16',\n",
    "                      '2006-04-17','2005-04-18','2004-04-19','2003-04-21','2002-04-15',\n",
    "                      '2001-04-16','2000-04-17']\n",
    "    }\n",
    "}\n",
    "\n",
    "def get_historical_weather(race_dict):\n",
    "    '''\n",
    "    returns df of weather data for given race details\n",
    "    \n",
    "    Args:\n",
    "        race_dict (dict): {race location: {start coords: tup, finish coords: tup, race_dates: []}}\n",
    "        \n",
    "    Returns:\n",
    "        weather_df (df): retrieved and cleaned weather data\n",
    "    '''\n",
    "    \n",
    "    # storage dict to hold all retrieved data\n",
    "    data_dict = {\n",
    "        'location': [], 'date': [], \n",
    "        'start_temp': [], 'temp_diff': [], \n",
    "        'start_humidity': [], 'humidity_diff': [], \n",
    "        'start_apparent_temp': [], 'apparent_temp_diff': [],\n",
    "        'start_cover': [], 'cover_diff': [], \n",
    "        'start_precip': [], 'precip_diff': [], \n",
    "        'start_windspeed': [], 'windspeed_diff': []\n",
    "    }\n",
    "\n",
    "    # loops through each race location (allows for us to expand to more races if we want)\n",
    "    for r in race_dict:\n",
    "        race = race_dict[r]\n",
    "        # loops for each race date for the current race location\n",
    "        for d in race['race_dates']:\n",
    "            start = call_weather(race['start_latlon'], d)\n",
    "            finish = call_weather(race['finish_latlon'], d)\n",
    "            start_cond = start['hourly']\n",
    "            finish_cond = finish['hourly']\n",
    "\n",
    "            # adding this specific race's data to the big dict\n",
    "            data_dict['location'].append(r)\n",
    "            data_dict['date'].append(d)\n",
    "\n",
    "            # finding start conditions, using 8am (index 9) as a start time\n",
    "            start_temp = start_cond['temperature_2m'][9]\n",
    "            start_humidity = start_cond['relativehumidity_2m'][9]\n",
    "            start_apparent_temp = start_cond['apparent_temperature'][9]\n",
    "            start_cover = start_cond['cloudcover'][9]\n",
    "            start_precip = start_cond['precipitation'][9]\n",
    "            start_windspeed = start_cond['windspeed_10m'][9]\n",
    "\n",
    "            # finding difference between start and finish (assuming 2 hours in between so 10am)\n",
    "            temp_diff = finish_cond['temperature_2m'][11] - start_temp\n",
    "            humidity_diff = finish_cond['relativehumidity_2m'][11] - start_humidity\n",
    "            apparent_temp_diff = finish_cond['apparent_temperature'][11] - start_apparent_temp\n",
    "            cover_diff = finish_cond['cloudcover'][11] - start_cover\n",
    "            precip_diff = finish_cond['precipitation'][11] - start_precip\n",
    "            windspeed_diff = finish_cond['windspeed_10m'][11] - start_windspeed\n",
    "\n",
    "            # adding the above data to the storage dictionary\n",
    "            data_dict['start_temp'].append(start_temp)\n",
    "            data_dict['start_humidity'].append(start_humidity)\n",
    "            data_dict['start_apparent_temp'].append(start_apparent_temp)\n",
    "            data_dict['start_cover'].append(start_cover)\n",
    "            data_dict['start_precip'].append(start_precip)\n",
    "            data_dict['start_windspeed'].append(start_windspeed)\n",
    "\n",
    "            data_dict['temp_diff'].append(temp_diff)\n",
    "            data_dict['humidity_diff'].append(humidity_diff)\n",
    "            data_dict['apparent_temp_diff'].append(apparent_temp_diff)\n",
    "            data_dict['cover_diff'].append(cover_diff)\n",
    "            data_dict['precip_diff'].append(precip_diff)\n",
    "            data_dict['windspeed_diff'].append(windspeed_diff)\n",
    "\n",
    "    weather_df = pd.DataFrame(data_dict)\n",
    "    return weather_df\n",
    "\n",
    "weather_data = get_historical_weather(race_dict)\n",
    "weather_data.head()"
   ]
  },
  {
   "cell_type": "markdown",
   "metadata": {
    "id": "XeSbxNS0bvsl"
   },
   "source": [
    "#### 2. Webscraping"
   ]
  },
  {
   "cell_type": "code",
   "execution_count": 3,
   "metadata": {
    "colab": {
     "base_uri": "https://localhost:8080/",
     "height": 424
    },
    "id": "BBJ1m0Fkbs2Q",
    "outputId": "464fe31f-5cc0-4ba0-f181-9d3b82533045"
   },
   "outputs": [
    {
     "data": {
      "text/html": [
       "<div>\n",
       "<style scoped>\n",
       "    .dataframe tbody tr th:only-of-type {\n",
       "        vertical-align: middle;\n",
       "    }\n",
       "\n",
       "    .dataframe tbody tr th {\n",
       "        vertical-align: top;\n",
       "    }\n",
       "\n",
       "    .dataframe thead th {\n",
       "        text-align: right;\n",
       "    }\n",
       "</style>\n",
       "<table border=\"1\" class=\"dataframe\">\n",
       "  <thead>\n",
       "    <tr style=\"text-align: right;\">\n",
       "      <th></th>\n",
       "      <th>name</th>\n",
       "      <th>sex</th>\n",
       "      <th>time (seconds)</th>\n",
       "    </tr>\n",
       "  </thead>\n",
       "  <tbody>\n",
       "    <tr>\n",
       "      <th>0</th>\n",
       "      <td>Evans Chebet</td>\n",
       "      <td>Male</td>\n",
       "      <td>7611</td>\n",
       "    </tr>\n",
       "    <tr>\n",
       "      <th>1</th>\n",
       "      <td>Lawrence Cherono</td>\n",
       "      <td>Male</td>\n",
       "      <td>7641</td>\n",
       "    </tr>\n",
       "    <tr>\n",
       "      <th>2</th>\n",
       "      <td>Benson Kipruto</td>\n",
       "      <td>Male</td>\n",
       "      <td>7647</td>\n",
       "    </tr>\n",
       "    <tr>\n",
       "      <th>3</th>\n",
       "      <td>Gabriel Geay</td>\n",
       "      <td>Male</td>\n",
       "      <td>7673</td>\n",
       "    </tr>\n",
       "    <tr>\n",
       "      <th>4</th>\n",
       "      <td>Eric Kiptanui</td>\n",
       "      <td>Male</td>\n",
       "      <td>7727</td>\n",
       "    </tr>\n",
       "    <tr>\n",
       "      <th>...</th>\n",
       "      <td>...</td>\n",
       "      <td>...</td>\n",
       "      <td>...</td>\n",
       "    </tr>\n",
       "    <tr>\n",
       "      <th>95</th>\n",
       "      <td>Drew Kiracofe</td>\n",
       "      <td>Male</td>\n",
       "      <td>8958</td>\n",
       "    </tr>\n",
       "    <tr>\n",
       "      <th>96</th>\n",
       "      <td>Max Haiss</td>\n",
       "      <td>Male</td>\n",
       "      <td>8959</td>\n",
       "    </tr>\n",
       "    <tr>\n",
       "      <th>97</th>\n",
       "      <td>Erik Hinrichsen</td>\n",
       "      <td>Male</td>\n",
       "      <td>8974</td>\n",
       "    </tr>\n",
       "    <tr>\n",
       "      <th>98</th>\n",
       "      <td>Dylan Stevens</td>\n",
       "      <td>Male</td>\n",
       "      <td>8976</td>\n",
       "    </tr>\n",
       "    <tr>\n",
       "      <th>99</th>\n",
       "      <td>Austin Lavin</td>\n",
       "      <td>Male</td>\n",
       "      <td>8977</td>\n",
       "    </tr>\n",
       "  </tbody>\n",
       "</table>\n",
       "<p>100 rows × 3 columns</p>\n",
       "</div>"
      ],
      "text/plain": [
       "                name   sex  time (seconds)\n",
       "0       Evans Chebet  Male            7611\n",
       "1   Lawrence Cherono  Male            7641\n",
       "2     Benson Kipruto  Male            7647\n",
       "3       Gabriel Geay  Male            7673\n",
       "4      Eric Kiptanui  Male            7727\n",
       "..               ...   ...             ...\n",
       "95     Drew Kiracofe  Male            8958\n",
       "96         Max Haiss  Male            8959\n",
       "97   Erik Hinrichsen  Male            8974\n",
       "98     Dylan Stevens  Male            8976\n",
       "99      Austin Lavin  Male            8977\n",
       "\n",
       "[100 rows x 3 columns]"
      ]
     },
     "execution_count": 3,
     "metadata": {},
     "output_type": "execute_result"
    }
   ],
   "source": [
    "import requests\n",
    "from bs4 import BeautifulSoup\n",
    "import pandas as pd\n",
    "import datetime as dt\n",
    "\n",
    "def get_top_100(date,sex):\n",
    "        \"\"\" creates a dataframe with the top 100 runners data for the Boston marathon from marathonguide.com\n",
    "\n",
    "        Args:\n",
    "            date (string, yyyy-mm-dd): date of the marathon\n",
    "            sex (string): sex assigned at birth for runner, male or female\n",
    "\n",
    "        Returns:\n",
    "            df_marathon (dataframe): dataframe that includes the top 100 runners,\n",
    "            this has columns that represent their name, sex, and time for the marathon\n",
    "        \"\"\"\n",
    "\n",
    "        # Split string into the month, day, and year\n",
    "        dateList = date.split('-')\n",
    "        # remove first two digits of year number\n",
    "        dateList[0] = dateList[0][2:]\n",
    "\n",
    "        # assign year, month, and day values\n",
    "        year = dateList[0]\n",
    "        month = dateList[1]\n",
    "        day = dateList[2]\n",
    "\n",
    "        # convert sex to a identifier string to be used to query the website\n",
    "        sexString = 'M' if sex == 'Male' else 'F'\n",
    "\n",
    "        #marathonGuideURL = f'http://www.marathonguide.com/results/browse.cfm?MIDD=15220418'\n",
    "        marathonGuideURL = f'http://www.marathonguide.com/results/browse.cfm?MIDD=15{year}{month}{day}'\n",
    "\n",
    "        # get session\n",
    "        s = requests.session()\n",
    "        p = s.get(marathonGuideURL)\n",
    "\n",
    "        # set the search parameters for marathonguide query\n",
    "        race_range = sexString + ',1,100,14065'\n",
    "\n",
    "        # navigate to page with tables we want for our query\n",
    "        rp = 'http://www.marathonguide.com/results/makelinks.cfm'\n",
    "        # navigate to page with tables we want for our query\n",
    "        data = {'RaceRange':race_range, \n",
    "                'RaceRange_Required':'You must make a selection before viewing results.', \n",
    "                'MIDD':f'15{year}{month}{day}', \n",
    "                'SubmitButton':'View'}\n",
    "        headers = {\"Referer\":f\"http://www.marathonguide.com/results/browse.cfm?MIDD=15{year}{month}{day}\",\n",
    "                \"User-Agent\":\"Mozilla/5.0 (Windows NT 6.1; WOW64) AppleWebKit/537.36 (KHTML, like Gecko) Chrome/34.0.1847.116 Safari/537.36\"}\n",
    "\n",
    "        results = s.post(rp, data=data, headers=headers)\n",
    "\n",
    "        soup = BeautifulSoup(results.content)\n",
    "\n",
    "        # create empty dataframe\n",
    "        df_marathon = pd.DataFrame()\n",
    "\n",
    "        # empty columns for df that we will fill\n",
    "        names_column = []\n",
    "        sex_column = []\n",
    "        times_column = []\n",
    "\n",
    "        # iterate through each row of the marathonguide table \n",
    "        rows =  soup.find('tr',{'bgcolor':'#CCCCCC'}).parent\n",
    "\n",
    "\n",
    "        # initialize index to 0 and start iterating through the rows of the table\n",
    "        i = 0\n",
    "        for row in rows:\n",
    "\n",
    "        # the first 4 rows of the table don't contain data,\n",
    "        # every other row contains no data so we only look at odd numbered ones\n",
    "                if i > 4 and i % 2 == 1:\n",
    "\n",
    "                        # split the multiple lines of div text into a list\n",
    "                        featureList = row.text.split('\\n')\n",
    "                        \n",
    "                        # pull out the name and time for this runner\n",
    "                        name = featureList[1]\n",
    "                        time = featureList[3]\n",
    "\n",
    "                        # remove the (M) or (F) in name\n",
    "                        name = name.split(' ')\n",
    "                        name = name[0] + ' ' + name[1]\n",
    "                \n",
    "                        names_column.append(name)\n",
    "\n",
    "                        # append sex to sex column\n",
    "                        sex_column.append(sex)\n",
    "\n",
    "                        # remove random text after the time numbers, only need to use for the gun time\n",
    "                        # time = time.split(' ')\n",
    "                        # time = time[0]\n",
    "\n",
    "                        # split the time into hours, minutes, seconds\n",
    "                        timeList = time.split(':')\n",
    "                        timeInSeconds = (int(timeList[0]) * 60 * 60) + (int(timeList[1]) * 60) + int(timeList[2])\n",
    "                        times_column.append(timeInSeconds)\n",
    "        \n",
    "                # increase index by 1\n",
    "                i += 1\n",
    "\n",
    "        # turn these lists into dataframe columns\n",
    "        df_marathon['name'] = names_column\n",
    "        df_marathon['sex'] = sex_column\n",
    "        df_marathon['time (seconds)'] = times_column\n",
    "\n",
    "        return df_marathon\n",
    "    \n",
    "\n",
    "get_top_100('2022-04-18','Male')"
   ]
  },
  {
   "cell_type": "markdown",
   "metadata": {
    "id": "ikRzJdenX9Ln"
   },
   "source": [
    "## Visualizations:"
   ]
  },
  {
   "cell_type": "markdown",
   "metadata": {},
   "source": [
    "This visualization plots average finish time for top 100 finishers by gender against humidity over the last 10 editions of the Boston Marathon."
   ]
  },
  {
   "cell_type": "code",
   "execution_count": 4,
   "metadata": {
    "colab": {
     "base_uri": "https://localhost:8080/",
     "height": 319
    },
    "id": "-zUx6lr-X8PG",
    "outputId": "57f7fc04-85cc-4164-fb22-c167ebd2baa9"
   },
   "outputs": [
    {
     "data": {
      "text/plain": [
       "Text(0.5, 1.0, 'average time vs. start humidity')"
      ]
     },
     "execution_count": 4,
     "metadata": {},
     "output_type": "execute_result"
    },
    {
     "data": {
      "image/png": "[encoded data removed]",
      "text/plain": [
       "<Figure size 640x480 with 1 Axes>"
      ]
     },
     "metadata": {},
     "output_type": "display_data"
    }
   ],
   "source": [
    "import numpy as np\n",
    "import matplotlib.pyplot as plt\n",
    "\n",
    "# plotting last 10 races' worth of data\n",
    "dates = ['2022-04-18', '2021-10-11', '2019-04-15', '2018-04-16', '2017-04-17',\n",
    "         '2016-04-18', '2015-04-20', '2014-04-21', '2013-04-15', '2012-04-16']\n",
    "\n",
    "# getting results data for the last 10 races, averaging top 100 times per gender\n",
    "male = []\n",
    "female = []\n",
    "for d in dates:\n",
    "  male.append(np.mean(get_top_100(d,'Male')['time (seconds)'].tolist()))\n",
    "  female.append(np.mean(get_top_100(d,'Female')['time (seconds)'].tolist()))\n",
    "\n",
    "# filtering out just the humidity from the last 10 races\n",
    "humidity_10races = weather_data['start_humidity'].tolist()[:10]\n",
    "\n",
    "# plotting as scatter\n",
    "plt.scatter(humidity_10races, male, label='male')\n",
    "plt.scatter(humidity_10races, female, label='female')\n",
    "plt.legend()\n",
    "plt.xlabel('start humidity')\n",
    "plt.ylabel('average time of top 100 (seconds)')\n",
    "plt.title('average time vs. start humidity')"
   ]
  },
  {
   "cell_type": "markdown",
   "metadata": {},
   "source": [
    "This visualization plots average finish time for top 100 finishers by gender against temperature over the last 22 editions of the Boston Marathon."
   ]
  },
  {
   "cell_type": "code",
   "execution_count": 5,
   "metadata": {
    "colab": {
     "base_uri": "https://localhost:8080/",
     "height": 554
    },
    "id": "fa_s_QyMPepY",
    "outputId": "2047c8fb-e481-4268-cafb-83668c8edd58"
   },
   "outputs": [
    {
     "data": {
      "image/png": "[encoded data removed]",
      "text/plain": [
       "<Figure size 1000x800 with 1 Axes>"
      ]
     },
     "metadata": {},
     "output_type": "display_data"
    }
   ],
   "source": [
    "race_dates = ['2022-04-18', '2021-10-11', '2019-04-15', '2018-04-16', '2017-04-17',\n",
    "                      '2016-04-18','2015-04-20','2014-04-21','2013-04-15','2012-04-16',\n",
    "                      '2011-04-18','2010-04-19','2009-04-20','2008-04-21','2007-04-16',\n",
    "                      '2006-04-17','2005-04-18','2004-04-19','2003-04-21','2002-04-15',\n",
    "                      '2001-04-16','2000-04-17']\n",
    "\n",
    "all_female_avg_speeds = []\n",
    "female_str = ['Female','Female','Female','Female','Female',\n",
    "             'Female','Female','Female','Female','Female',\n",
    "             'Female','Female','Female','Female','Female',\n",
    "             'Female','Female','Female','Female','Female',\n",
    "             'Female','Female']\n",
    "\n",
    "all_male_avg_speeds = []\n",
    "male_str = ['Male','Male','Male','Male','Male',\n",
    "           'Male','Male','Male','Male','Male',\n",
    "           'Male','Male','Male','Male','Male',\n",
    "           'Male','Male','Male','Male','Male',\n",
    "           'Male','Male']\n",
    "\n",
    "# loops through all race dates\n",
    "# gets the avg speed for the top 100 women and appends it to a list\n",
    "for date in race_dates:  \n",
    "    female_runners = get_top_100(date,'Female')\n",
    "    female_avg_speed = female_runners['time (seconds)'].mean()\n",
    "    all_female_avg_speeds.append(female_avg_speed)\n",
    "\n",
    "# a dataframe is initalized with the avg speeds and the string 'Female' for each row\n",
    "female_df = pd.DataFrame()\n",
    "female_df['Avg Speed (s)'] = all_female_avg_speeds\n",
    "female_df['Sex'] = female_str\n",
    "\n",
    "# the same process is repeated for males as above\n",
    "for date in race_dates:  \n",
    "    male_runners = get_top_100(date,'Male')\n",
    "    male_avg_speed = male_runners['time (seconds)'].mean()\n",
    "    all_male_avg_speeds.append(male_avg_speed)\n",
    "\n",
    "male_df = pd.DataFrame()\n",
    "male_df['Avg Speed (s)'] = all_male_avg_speeds\n",
    "male_df['Sex'] = male_str\n",
    "\n",
    "# the two resulting df's are put together\n",
    "all_avg_speeds = pd.concat([female_df, male_df])\n",
    "\n",
    "# the sexes are our variables of separation \n",
    "two_sexes = ['Female','Male']\n",
    "\n",
    "from matplotlib import pyplot as plt\n",
    "\n",
    "for sex in two_sexes:\n",
    "    # boolean index\n",
    "    bool_sex = all_avg_speeds['Sex'] == sex\n",
    "    df_sex = all_avg_speeds.loc[bool_sex, :]\n",
    "\n",
    "    # scatter\n",
    "    plt.scatter(df_sex['Avg Speed (s)'],\n",
    "                weather_data['start_apparent_temp'], alpha=.5, label=sex)\n",
    "    \n",
    "plt.legend()\n",
    "plt.xlabel('Avg Time to Finish (s)')\n",
    "plt.ylabel('Temperature (F)')\n",
    "plt.gcf().set_size_inches(10, 8)\n",
    "plt.suptitle('Avg Time vs Race Temperature at Start');"
   ]
  },
  {
   "cell_type": "markdown",
   "metadata": {
    "id": "6nPmMlE4Nlz_"
   },
   "source": [
    "## Analysis/ML Plan:"
   ]
  },
  {
   "cell_type": "markdown",
   "metadata": {},
   "source": [
    "The machine learning model we think is most appropriate for our project potentially might be multivariate regression ..."
   ]
  },
  {
   "cell_type": "markdown",
   "metadata": {
    "id": "kXW-m8-mNmqB"
   },
   "source": [
    "The machine learning model we think is most appropriate for our project is linear regression (which we are just now covering in class). We understand that linear regression can be utilized to predict a numeric variable y from one or more numeric variables x. We may investigate using linear regression with predictors such as the weather (temperature, humidity, wind speed, and precipitation) and gender (female, male) to see if we can predict a runner's finish time. We expect that some of these features will have an impact on the runner's finish time, though from the preliminary analysis it is possible that gender is the most important feature. It may be that some of the numeric features are related non-linearly, so we may also investigate some polynomial regression. We will make sure that we scale our numeric features before implementing the model, and will also make sure we cross validate while exploring different models. \n",
    "\n",
    "We may also explore models outside the scope of the course, though we expect regression to be the most appropriate for our questions of interest.\n",
    " "
   ]
  }
 ],
 "metadata": {
  "colab": {
   "collapsed_sections": [],
   "provenance": []
  },
  "kernelspec": {
   "display_name": "Python 3",
   "language": "python",
   "name": "python3"
  },
  "language_info": {
   "codemirror_mode": {
    "name": "ipython",
    "version": 3
   },
   "file_extension": ".py",
   "mimetype": "text/x-python",
   "name": "python",
   "nbconvert_exporter": "python",
   "pygments_lexer": "ipython3",
   "version": "3.7.6"
  }
 },
 "nbformat": 4,
 "nbformat_minor": 4
}
