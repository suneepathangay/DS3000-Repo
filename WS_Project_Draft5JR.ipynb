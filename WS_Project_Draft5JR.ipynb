{
 "cells": [
  {
   "cell_type": "markdown",
   "metadata": {},
   "source": [
    "## Introduction\n",
    "When the Major League Baseball playoffs come around every October, predictions and bets about which team will win the World Series intensify. While there are always differing opinions, the unbiased consensus regarding the favorite is almost always the team with the highest regular season win total. However, this prediction is usually wrong - the winningest regular season team has only won the World Series 4 times in the last 30 seasons (excludes the 1994 season that had no World Series due to a players strike). Further, a 2022 Elder Research study found that teams' perceived skill levels (\"power ratings\") correctly predicted ~56% of regular season winners in simulations but only ~31% of World Series winners. This 25% discrepancy is the largest of the 4 major professional sports organizations in America (MLB, National Football League, National Basketball Association, National Hockey League), and means having such a long regular season (162 games) does not necessarily translate to more predictable World Series winners.\n",
    "\n",
    "This raises some questions regarding World Series predictions:\n",
    "- Why is regular season wins such a poor predictor of World Series champion? Is it primarily due to level of randomness in team performances in each individual game, the format of the playoffs, or other factors?\n",
    "- Do any overall team statistics, have a material impact on playoff performance and World Series winners?\n",
    "- Can we determine metrics that are greater predictors of World Series winners than regular season wins? Can we build a model that predicts these metrics for future seasons and uses these projections to predict future World Series winners?\n",
    "\n",
    "[Elder Research Report](https://www.elderresearch.com/blog/how-often-does-the-best-team-win-the-title/#:~:text=The%20MLB's%20best%20team%2C%20on,the%20best%20regular%20season%20team)"
   ]
  },
  {
   "cell_type": "markdown",
   "metadata": {},
   "source": [
    "## Method\n",
    "NOTES FOR GUIDANCE:\n",
    "- EXPLAIN THAT WE USED RANDOM FOREST CLASSIFIER TO DETERMINE FEATURE IMPORTANCE AND THEN DECISION TREE CLASSIFIER TO PREDICT PLAYOFF OUTCOMES.\n"
   ]
  },
  {
   "cell_type": "markdown",
   "metadata": {},
   "source": [
    "## Results"
   ]
  },
  {
   "cell_type": "markdown",
   "metadata": {},
   "source": [
    "## Discussion\n"
   ]
  },
  {
   "cell_type": "markdown",
   "metadata": {
    "id": "r8DvQZO8Mpv6"
   },
   "source": [
    "# **Data and Analysis Plan: World Series Predictions**\n",
    "\n",
    "- Justin Radist\n",
    "- Suneet Pathangay\n",
    "- Zhenzhen Liu\n",
    "- Elijah Sandler"
   ]
  },
  {
   "cell_type": "markdown",
   "metadata": {
    "id": "cwixuBfBNKN7"
   },
   "source": [
    "## Project Goal:"
   ]
  },
  {
   "cell_type": "markdown",
   "metadata": {},
   "source": [
    "Our project aims to explore the relationship between various MLB team and individual player statistics and the performance of teams in the playoffs and World Series. We have chosen to focus on common batting and pitching statistics for teams and individual players over the last 25-30 years. We may also focus on other pieces of data such as payrolls, team injuries, fan base support and stadium dimensions. Specifically, we ask:\n",
    "- What metrics - whether they be certain team statistics, individual player statistics, injuries, payrolls, fan bases, stadiums, etc. - have a material impact on playoff performance and World Series winners?\n",
    "- Can we determine metrics that are greater predictors of World Series winners than regular season wins? Can we build a model that predicts these metrics for future seasons and uses these projections to predict future World Series winners?\n",
    "\n",
    "We are using https://www.baseball-reference.com/ for our main data source, which we will webscrape from. We are not using any API."
   ]
  },
  {
   "cell_type": "markdown",
   "metadata": {
    "id": "xM_kK_6ol2-x"
   },
   "source": [
    "## Pipeline Overview:"
   ]
  },
  {
   "cell_type": "markdown",
   "metadata": {
    "id": "rOrHrSQwmPNF"
   },
   "source": [
    "We have already written several functions for scraping the Baseball Reference website:\n",
    "- build_player_url() and build_team_url()\n",
    "    - Builds the URLs needed to access a certain player's or team's statistics page.\n",
    "- get_batting_df() & get_pitching_df(()\n",
    "    - Get tables of a team's batting and pitching statistics, respectively, for a given season.\n",
    "- get_season_batting_df()\n",
    "    - Get batting stats by team for a given season. We'll add a get_season_pitching_df(season) function soon.\n",
    "- get_player_df()\n",
    "     - Along with get_player_dict(), builds dataframes of a player's common careers stats table."
   ]
  },
  {
   "cell_type": "markdown",
   "metadata": {
    "id": "rclg500lS2Oc"
   },
   "source": [
    "### Pipeline:"
   ]
  },
  {
   "cell_type": "markdown",
   "metadata": {},
   "source": [
    "#### 1. Building URLs and Webscraping"
   ]
  },
  {
   "cell_type": "code",
   "execution_count": 1,
   "metadata": {},
   "outputs": [],
   "source": [
    "# import statements\n",
    "import requests\n",
    "from bs4 import BeautifulSoup\n",
    "import pandas as pd\n",
    "from collections import defaultdict\n",
    "import numpy as np\n",
    "import matplotlib.pyplot as plt\n",
    "import seaborn as sns\n",
    "import time\n",
    "#import re\n",
    "from bs4 import Comment\n",
    "from sklearn.ensemble import RandomForestClassifier\n",
    "from sklearn.tree import DecisionTreeClassifier\n",
    "from sklearn.model_selection import train_test_split\n",
    "from sklearn.model_selection import KFold\n",
    "from sklearn.metrics import accuracy_score\n",
    "from sklearn import tree\n",
    "from copy import copy"
   ]
  },
  {
   "cell_type": "code",
   "execution_count": 2,
   "metadata": {},
   "outputs": [],
   "source": [
    "def build_team_url(team, year):\n",
    "    \"\"\" Constructs the URL of any MLB team's Baseball Reference stat page for a single season\n",
    "    \n",
    "    Args:\n",
    "        team (str): 3-letter abbreviation of one of the 30 current MLB teams in existence\n",
    "        year (int): the year/season to get team data for\n",
    "    \n",
    "    Returns:\n",
    "        url (str): the URL that can be used to retrieve the given team's\n",
    "        stats for the given year from BaseballReference.com\n",
    "    \"\"\"\n",
    "    url = f\"https://www.baseball-reference.com/teams/{team}/{str(year)}.shtml\"\n",
    "    return url"
   ]
  },
  {
   "cell_type": "markdown",
   "metadata": {},
   "source": [
    "#### 2. Cleaning Data and Building Dataframes"
   ]
  },
  {
   "cell_type": "code",
   "execution_count": 3,
   "metadata": {},
   "outputs": [],
   "source": [
    "dict_team_batting = defaultdict(lambda: dict())\n",
    "def get_batting_df(team_code, dict_team_batting=dict_team_batting, year=2023):\n",
    "    \"\"\" Gets the batting table for a given team. if table is not stored, adds it to dictionary \n",
    "    \n",
    "    Args:\n",
    "        team_code (str): short team abbreviation used by Baseball Reference\n",
    "        dict_team_batting (dict): dictionary containing all queries we've made before\n",
    "        year(int): the year we want data from, defaults to 2023\n",
    "\n",
    "    Returns:\n",
    "        dict_team_batting[year][team_code] (pd.DataFrame): dataframe of batting stats for given team and year\n",
    "    \"\"\"\n",
    "    \n",
    "    if team_code in dict_team_batting.keys():\n",
    "        return dict_team_batting[year][team_code]\n",
    "    \n",
    "    else:\n",
    "        url = f\"https://www.baseball-reference.com/teams/{team_code}/{str(year)}.shtml\"\n",
    "        df_batting = pd.read_html(url)[0]\n",
    "        time.sleep(4)\n",
    "        \n",
    "        df_filtered = pd.DataFrame()\n",
    "        for idx in df_batting.index:\n",
    "            try:\n",
    "                int(df_batting.loc[idx, 'Rk'])\n",
    "                df_filtered = pd.concat([df_filtered, df_batting.loc[idx, :]], axis=1)\n",
    "            except(ValueError):\n",
    "                pass\n",
    "        \n",
    "        dict_team_batting[year][team_code] = df_filtered.T\n",
    "        \n",
    "    return dict_team_batting[year][team_code]"
   ]
  },
  {
   "cell_type": "code",
   "execution_count": 4,
   "metadata": {},
   "outputs": [],
   "source": [
    "dict_team_pitching = defaultdict(lambda: dict())\n",
    "def get_pitching_df(team_code, dict_team_pitching=dict_team_pitching, year=2023):\n",
    "    \"\"\" Gets the pitching table for a given team. if table is not stored, adds it to dictionary \n",
    "    \n",
    "    Args:\n",
    "        team_code (str): short team abbreviation used by baseball reference\n",
    "        dict_team_pitching (dict): dictionary containing all queries we've made before\n",
    "        year(int): year we want data from, defaults to 2023\n",
    "    Returns:\n",
    "        dict_team_pitching[year][team_code] (pd.DataFrame): dataframe of pitching stats for given team and year\n",
    "    \"\"\"\n",
    "    \n",
    "    if team_code in dict_team_pitching[year].keys():\n",
    "        return dict_team_pitching[year][team_code]\n",
    "    \n",
    "    else:\n",
    "        url = f\"https://www.baseball-reference.com/teams/{team_code}/{str(year)}.shtml\"\n",
    "        df_pitching = pd.read_html(url)[1]\n",
    "        time.sleep(4)\n",
    "        \n",
    "        df_filtered = pd.DataFrame()\n",
    "        for idx in df_pitching.index:\n",
    "            try:\n",
    "                int(df_pitching.loc[idx, 'Rk'])\n",
    "                df_filtered = pd.concat([df_filtered, df_pitching.loc[idx, :]], axis=1)\n",
    "            except(ValueError):\n",
    "                pass\n",
    "          \n",
    "        dict_team_pitching[year][team_code] = df_filtered.T\n",
    "        \n",
    "    return dict_team_pitching[year][team_code]"
   ]
  },
  {
   "cell_type": "code",
   "execution_count": 5,
   "metadata": {},
   "outputs": [],
   "source": [
    "# currently only used for a data analysis plan graph\n",
    "def get_season_batting_df(season):\n",
    "    \"\"\" Gets a table of common batting stats organized by MLB team for a given season\n",
    "    Args:\n",
    "        season (int): the season to get data for\n",
    "    \n",
    "    Returns:\n",
    "         df_season_batting (pd.DataFrame): a dataframe of batting stats by team for a season\n",
    "    \"\"\"\n",
    "    url = f'https://www.baseball-reference.com/leagues/majors/{season}.shtml'\n",
    "    \n",
    "    df_season_batting = pd.read_html(url)[0]\n",
    "    time.sleep(4)\n",
    "    \n",
    "    return df_season_batting"
   ]
  },
  {
   "cell_type": "code",
   "execution_count": 6,
   "metadata": {},
   "outputs": [],
   "source": [
    "team_abbrevs_dict = {'Arizona Diamondbacks': 'ARI', 'Atlanta Braves': 'ATL', 'Baltimore Orioles': 'BAL',\n",
    "                     'Boston Red Sox': 'BOS', 'Chicago Cubs': 'CHC', 'Chicago White Sox': 'CWS',\n",
    "                     'Cincinnati Reds': 'CIN', 'Cleveland Guardians': 'CLE', 'Colorado Rockies': 'COL',\n",
    "                     'Detroit Tigers': 'DET', 'Houston Astros': 'HOU', 'Kansas City Royals': 'KAN',\n",
    "                     'Los Angeles Angels': 'LAA', 'Los Angeles Dodgers': 'LAD', 'Miami Marlins': 'MIA',\n",
    "                     'Milwaukee Brewers': 'MIL', 'Minnesota Twins': 'MIN', 'New York Mets': 'NYM',\n",
    "                     'New York Yankees': 'NYY', 'Oakland Athletics': 'OAK', 'Philadelphia Phillies': 'PHI',\n",
    "                     'Pittsburgh Pirates': 'PIT', 'San Diego Padres': 'SDP', 'San Francisco Giants': 'SFG',\n",
    "                     'Seattle Mariners': 'SEA', 'St. Louis Cardinals': 'STL', 'Tampa Bay Rays': 'TBR',\n",
    "                     'Texas Rangers': 'TEX', 'Toronto Blue Jays': 'TOR', 'Washington Nationals': 'WAS'}"
   ]
  },
  {
   "cell_type": "markdown",
   "metadata": {},
   "source": [
    "## Webscraping and Data Cleaning"
   ]
  },
  {
   "cell_type": "code",
   "execution_count": 7,
   "metadata": {},
   "outputs": [],
   "source": [
    "# get the World Series information\n",
    "table = pd.read_html(\"https://www.baseball-reference.com/postseason/world-series.shtml\")\n",
    "time.sleep(4)\n",
    "ws_data = table[0]\n",
    "\n",
    "# rename win and win1 to AL Wins and NL Wins, respectively\n",
    "ws_data.rename(columns={ws_data.columns[2]: 'AL Wins'}, inplace=True)\n",
    "ws_data.rename(columns={ws_data.columns[3]: 'NL Wins'}, inplace=True)"
   ]
  },
  {
   "cell_type": "code",
   "execution_count": 8,
   "metadata": {},
   "outputs": [],
   "source": [
    "# build dictionary of WS champions\n",
    "ws_winner_dict = {}\n",
    "\n",
    "for idx, row in ws_data.iterrows():\n",
    "    if row['AL Wins'] == '4':\n",
    "        ws_winner_dict[int(row['Year'])] = row['AL Winner']\n",
    "    if row['NL Wins'] == '4':\n",
    "        ws_winner_dict[int(row['Year'])] = row['NL Winner']"
   ]
  },
  {
   "cell_type": "code",
   "execution_count": 9,
   "metadata": {},
   "outputs": [],
   "source": [
    "def seasonal_data(year):\n",
    "    \"\"\" gets team batting and pitching data for a given season\n",
    "    \n",
    "    Args: \n",
    "        year (int): year of statistics\n",
    "        \n",
    "    Returns: \n",
    "        batting (df): dataframe of batting statistics\n",
    "        pitching (df): dataframe of pitching statistics\n",
    "    \"\"\"\n",
    "    url = f'https://www.baseball-reference.com/leagues/majors/{str(year)}.shtml'\n",
    "    batting = pd.read_html(url)[0]\n",
    "    # convert all values in table to float (except for team names)\n",
    "    batting = pd.concat([batting.iloc[:30, 0], batting.iloc[:30, 1:].astype(float)], axis=1)\n",
    "    \n",
    "    \"\"\" for whatever reason, the html for the pitching table is commented out.\n",
    "        so, we have to go in with bs4, find the tables in the comments, and then read that html. \"\"\"\n",
    "    \n",
    "    response = requests.get(url)\n",
    "    html_content = response.content\n",
    "\n",
    "    # use bs4 to parse the HTML, including comments\n",
    "    soup = BeautifulSoup(html_content, 'html.parser')\n",
    "\n",
    "    # find all HTML comments\n",
    "    comments = soup.find_all(string=lambda text: isinstance(text, Comment))\n",
    "\n",
    "    # extract tables from comments\n",
    "    tables = []\n",
    "    for comment in comments:\n",
    "        comment_soup = BeautifulSoup(str(comment), 'html.parser')\n",
    "        comment_tables = comment_soup.find_all('table')\n",
    "        tables.extend(comment_tables) # not append\n",
    "\n",
    "    pitching = pd.read_html(str(tables[1]))[0]\n",
    "    # convert all values in table to float (except for team names)\n",
    "    pitching = pd.concat([pitching.iloc[:30, 0], pitching.iloc[:30, 1:].astype(float)], axis=1)\n",
    "    \n",
    "    # clean tables\n",
    "    batting_filtered = pd.DataFrame()\n",
    "    for idx in batting.index:\n",
    "        try:\n",
    "            int(batting.loc[idx, '#Bat'])\n",
    "            batting_filtered = pd.concat([batting_filtered, batting.loc[idx, :]], axis=1)\n",
    "        except(ValueError):\n",
    "            pass\n",
    "        \n",
    "    pitching_filtered = pd.DataFrame()\n",
    "    for idx in pitching.index:\n",
    "        try:\n",
    "            int(pitching.loc[idx, '#P'])\n",
    "            pitching_filtered = pd.concat([pitching_filtered, pitching.loc[idx, :]], axis=1)\n",
    "        except(ValueError):\n",
    "            pass\n",
    "    \n",
    "    # don't get timed out\n",
    "    time.sleep(8.2)\n",
    "    return batting, pitching"
   ]
  },
  {
   "cell_type": "code",
   "execution_count": 51,
   "metadata": {},
   "outputs": [],
   "source": [
    "# get data table of all MLB playoff history. then rename columns\n",
    "playoff_data = pd.read_html('https://www.baseball-reference.com/postseason/')[0]\n",
    "playoff_data.rename(columns={playoff_data.columns[1]: 'Series Outcome'}, inplace=True)\n",
    "playoff_data.rename(columns={playoff_data.columns[2]: 'Matchup'}, inplace=True)\n",
    "\n",
    "# get playoff success for all teams for the past 25 seasons and make into a df\n",
    "num_seasons = 25\n",
    "years = list(map(lambda x: 2023 - x, range(num_seasons)))\n",
    "year_success = []\n",
    "playoff_success_df = pd.DataFrame()\n",
    "\n",
    "for year in years:\n",
    "    temp_slice = playoff_data[playoff_data['Series'].str.contains(str(year), na=False)]\n",
    "    year_success = []\n",
    "    for team in team_abbrevs_dict.keys():\n",
    "        # check if team won WS\n",
    "        if ws_winner_dict[int(year)] == team:\n",
    "            year_success.append(5)\n",
    "        # if team didn't win WS, check if they made it to WS\n",
    "        elif team in temp_slice.iloc[0,2]:\n",
    "            year_success.append(4)\n",
    "        # if team didn't make it to WS, check if they made it to Championship Series (CS)\n",
    "        elif temp_slice.iloc[1:3, 2].str.count(team).sum() > 0:\n",
    "            year_success.append(3)\n",
    "        # if team didn't make it to CS, check if they made it to Division Series (DS)\n",
    "        elif temp_slice.iloc[3:7, 2].str.count(team).sum() > 0:\n",
    "            year_success.append(2)\n",
    "        # if team didn't make it to DS, check if they made it to Wild Card (WC) round\n",
    "        elif temp_slice.iloc[7:, 2].str.count(team).sum() > 0:\n",
    "            year_success.append(1)\n",
    "        # if team didn't make playoffs, append 0\n",
    "        else:\n",
    "            year_success.append(0)\n",
    "\n",
    "    year_series = pd.Series(year_success)\n",
    "    playoff_success_df = pd.concat([playoff_success_df, year_series.to_frame().T])\n",
    "\n",
    "# make df rows the seasons, make columns the teams/abbrevs (cells all contain 0, 1, 2, 3, 4, or 5)\n",
    "playoff_success_df.columns = list(team_abbrevs_dict.values())\n",
    "playoff_success_df.index = years"
   ]
  },
  {
   "cell_type": "code",
   "execution_count": 273,
   "metadata": {},
   "outputs": [
    {
     "name": "stderr",
     "output_type": "stream",
     "text": [
      "/Users/justinradist/opt/anaconda3/lib/python3.7/site-packages/bs4/__init__.py:439: MarkupResemblesLocatorWarning: The input looks more like a filename than markup. You may want to open this file and pass the filehandle into Beautiful Soup.\n",
      "  MarkupResemblesLocatorWarning\n"
     ]
    }
   ],
   "source": [
    "# DO NOT RUN THIS CELL AGAIN UNTIL WE SUBMIT!!! READ IN \"master_df.csv\" CSV FILE INSTEAD\n",
    "# master stat table with batting, pitching, and playoff success data for every team each of last 25 seasons\n",
    "num_seasons = 25\n",
    "years = list(map(lambda x: 2023 - x, range(num_seasons)))\n",
    "master_df = pd.DataFrame()\n",
    "\n",
    "for year in years:\n",
    "    # get batting and pitching tables by team for current season\n",
    "    b, p = seasonal_data(year)\n",
    "    # combine batting and pitching dfs for 1 season into 1 df\n",
    "    current_year_df = pd.concat([b, p], axis=1)\n",
    "    current_year_list = pd.Series(map(lambda x: year, range(len(b))), name='Season')\n",
    "    # add column identifying what season the current data is from\n",
    "    current_year_df = pd.concat([current_year_list.to_frame(), current_year_df], axis=1)\n",
    "    # add column of teams' playoff success\n",
    "    playoff_col = playoff_success_df.loc[year].reset_index(drop=True)\n",
    "    playoff_col = pd.Series(playoff_col, name='Playoff Round')\n",
    "    current_year_df = pd.concat([current_year_df, playoff_col.to_frame()], axis=1)\n",
    "    # add current year's df to master df\n",
    "    master_df = pd.concat([master_df, current_year_df])\n",
    "\n",
    "# save master_df to a CSV file\n",
    "master_df.to_csv('master_df.csv', index=False)"
   ]
  },
  {
   "cell_type": "code",
   "execution_count": 10,
   "metadata": {
    "scrolled": true
   },
   "outputs": [],
   "source": [
    "master_df_read = pd.read_csv('master_df.csv')"
   ]
  },
  {
   "cell_type": "code",
   "execution_count": 11,
   "metadata": {},
   "outputs": [],
   "source": [
    "# remove uninformative stats from df \n",
    "master_df_read.drop(['#Bat', 'G', 'PA', 'AB', 'TB', '#P', 'Tm.1', 'G.1', 'BF'], axis=1, inplace=True)\n",
    "# remove informative but excess / repetitive stats from df\n",
    "master_df_read.drop(['R/G', 'RA/G', 'W-L%', 'H9', 'HR9', 'BB9', 'SO9', 'SO/W'], axis=1, inplace=True)"
   ]
  },
  {
   "cell_type": "code",
   "execution_count": 12,
   "metadata": {},
   "outputs": [],
   "source": [
    "# turn all values in master_df_read into ranks on a per season basis\n",
    "low_is_better_stats = ['BatAge', 'CS', 'SO', 'GDP', 'LOB', 'PAge', 'RA/G', 'L', 'ERA', 'H.1', 'R.1', 'ER', 'HR.1',\n",
    "                      'BB.1', 'IBB.1', 'HBP.1', 'BK', 'WP', 'WHIP', 'H9', 'HR9', 'BB9']\n",
    "\n",
    "master_df_ranked = master_df_read[['Season', 'Tm']]\n",
    "for col in list(master_df_read.columns)[2:-1]:\n",
    "    col_rank = []\n",
    "    for season in range(len(master_df_read['Season'].unique())):\n",
    "        seasonal_df = master_df_read.iloc[season*30:season*30+30]\n",
    "        if col in low_is_better_stats:\n",
    "            temp_ranks = seasonal_df[col].rank(method='min')\n",
    "        else:\n",
    "            temp_ranks = seasonal_df[col].rank(ascending=False, method='min')\n",
    "        for temp_rank in temp_ranks:\n",
    "            col_rank.append(temp_rank)\n",
    "    col_rank_series = pd.Series(col_rank, name=col)\n",
    "    master_df_ranked = pd.concat([master_df_ranked, col_rank_series.to_frame()], axis=1)\n",
    "master_df_ranked = pd.concat([master_df_ranked, master_df_read['Playoff Round'].to_frame()], axis=1)"
   ]
  },
  {
   "cell_type": "code",
   "execution_count": 13,
   "metadata": {},
   "outputs": [],
   "source": [
    "# filter dfs for only rows of teams/seasons that made playoffs\n",
    "master_df_read_playoffs = master_df_read[master_df_read['Playoff Round'] != 0]\n",
    "master_df_ranked_playoffs = master_df_read[master_df_ranked['Playoff Round'] != 0]"
   ]
  },
  {
   "cell_type": "markdown",
   "metadata": {},
   "source": [
    "## Preliminary Visualizations:\n",
    "This visualization plots how many World Series winners led the league in each stat during the regular season of the year they won the World Series."
   ]
  },
  {
   "cell_type": "code",
   "execution_count": 13,
   "metadata": {},
   "outputs": [],
   "source": [
    "# CURRENTLY ONLY USED FOR ORIGINAL DATA ANALYSIS PLAN VISUALIZATION\n",
    "def ws_winner_leading_data(team, year, num_teams=1):\n",
    "    \"\"\" Get regular season stat leading data from a World Series winner\n",
    "        \n",
    "    Args:\n",
    "        team (string): the name of the team\n",
    "        year (int or string): the year that the team won the World Series\n",
    "        num_teams (int): the lowest rank in the MLB a World Series winner can be in a stat to be considered a\n",
    "        \"leader\" in that stat category (e.g., if num_teams is 3, then a World Series winner must have had one of\n",
    "        the 3 highest stat values of any team in the MLB that season to be considered a \"leader\")\n",
    "        \n",
    "    Returns:\n",
    "        None\n",
    "    \"\"\"\n",
    "    # get table of aggregated batting data by team for a single season\n",
    "    batting_table, _ = seasonal_data(year)\n",
    "    time.sleep(4)\n",
    "    batting_table.drop('G', axis=1, inplace=True)\n",
    "    \n",
    "    # loop through all stats in table\n",
    "    for stat in list(batting_table.columns[3:]):\n",
    "        # for each stat, convert its column of values to a list and sort in descending order\n",
    "        stat_list = list(batting_table[stat])\n",
    "        stat_list.sort(reverse=True)\n",
    "        # find the cutoff stat value\n",
    "        cutoff = stat_list[num_teams - 1]\n",
    "        \n",
    "        # if WS winner met/exceeded cutoff stat value, add 1 to the dict count of the current stat\n",
    "        if (batting_table[batting_table[stat] >= cutoff]['Tm'] == team).any():\n",
    "            if stat in stat_counts_dict.keys():\n",
    "                stat_counts_dict[stat] += 1\n",
    "            else:\n",
    "                stat_counts_dict[stat] = 1\n",
    "    return None"
   ]
  },
  {
   "cell_type": "code",
   "execution_count": null,
   "metadata": {},
   "outputs": [],
   "source": [
    "# CURRENTLY ONLY USED FOR ORIGINAL DATA ANALYSIS PLAN VISUALIZATION\n",
    "# dictionary of counts of last 25 WS winners that were top 3 in the MLB in each batting stat\n",
    "stat_counts_dict = {}\n",
    "year_count = 0\n",
    "for year, team in ws_winner_dict.items():\n",
    "    if year_count > 25:\n",
    "        break\n",
    "    ws_winner_leading_data(team, year, num_teams=3)\n",
    "    year_count += 1\n",
    "\n",
    "stat_counts_dict"
   ]
  },
  {
   "cell_type": "code",
   "execution_count": 31,
   "metadata": {},
   "outputs": [
    {
     "data": {
      "image/png": "[encoded data removed]",
      "text/plain": [
       "<Figure size 936x432 with 1 Axes>"
      ]
     },
     "metadata": {
      "needs_background": "light"
     },
     "output_type": "display_data"
    }
   ],
   "source": [
    "# CURRENTLY ONLY USED FOR ORIGINAL DATA ANALYSIS PLAN VISUALIZATION\n",
    "# create bar chart of stats and how often World Series winners led the league in them\n",
    "plt.bar(stat_counts_dict.keys(), stat_counts_dict.values())\n",
    "plt.yticks(list(range(15)))\n",
    "\n",
    "plt.xlabel('Team Batting Data')\n",
    "plt.ylabel('Number World Series Winners that Led League')\n",
    "plt.title('Number of World Series Winners Over the Past 25 Seasons that led the MLB in the Various Batting Stats')\n",
    "plt.gcf().set_size_inches(13, 6)\n",
    "plt.show()"
   ]
  },
  {
   "cell_type": "markdown",
   "metadata": {},
   "source": [
    "As you can see in the graph above, for every batting stat, at most 3 of the last 10 World Series winners led the league in it the year they won. This is actually a greater percentage than the number of teams that led the MLB in regular season wins the year they won the World Series, which is somewhat promising for our project. One next step could be to expand from only counting World Series winners that led the entire MLB in a stat to counting World Series winners that were one of the top 3 or 5 teams in the MLB for a stat that season. This is likely to increase the counts substantially while still providing relevant info, since top 5 out of 30 teams in still in the highest quintile.\n",
    "\n",
    "The visualization below displays scatter plots with 2 sets of data points on each plot: 1 color for the mean values by season, a different color for the set of values for World Series winners by season. We are looking to see if World Series winners consistently had well-above average values for any stat, which would indicate there might be some relationship between that stat and playoff success."
   ]
  },
  {
   "cell_type": "code",
   "execution_count": 81,
   "metadata": {},
   "outputs": [],
   "source": [
    "seasons = []\n",
    "batting_stats = {'H': [],\n",
    "                'HR': [],\n",
    "                'RBI': [],\n",
    "                'BA': [],\n",
    "                'OPS': []}\n",
    "\n",
    "# loop backwards through the past n seasons\n",
    "for i in range(10):\n",
    "    season = 2023 - i\n",
    "    seasons.append(season)\n",
    "    # pull df for current loop's season, set team name as the index\n",
    "    df_season_batting = get_season_batting_df(season).set_index('Tm')\n",
    "    time.sleep(4)\n",
    "    # loop through all the stats in the dictionary initialized above\n",
    "    for stat in list(batting_stats.keys()):\n",
    "        # get the average team value for the current stat in the current season\n",
    "        avg_stat_val = df_season_batting[stat][:30].astype(float).mean()\n",
    "        \n",
    "        # get the value for the current stat for the team that won the World Series in the current loop's season\n",
    "        ws_winner = ws_winner_dict[season]\n",
    "        ws_winner_stat_val = float(df_season_batting.loc[ws_winner][stat])\n",
    "        \n",
    "        # create 2-item list of mean stat value and World Series winner stat value for the current season\n",
    "        temp_stat_list = [round(avg_stat_val, 3), round(ws_winner_stat_val, 3)]\n",
    "        # add the 2-item list to list of the respective stat in the batting stats dictionary\n",
    "        batting_stats[stat].append(temp_stat_list)"
   ]
  },
  {
   "cell_type": "code",
   "execution_count": null,
   "metadata": {},
   "outputs": [],
   "source": [
    "# plot mean team and WS winner values for each stat by season\n",
    "sns.set_style('darkgrid')\n",
    "for stat, values in batting_stats.items():\n",
    "    temp_array = np.array(values)\n",
    "    plt.scatter(seasons, temp_array[:, 0], label='Mean Value')\n",
    "    plt.scatter(seasons, temp_array[:, 1], label='WS Winner Value')\n",
    "    plt.xticks(seasons)\n",
    "    plt.legend(bbox_to_anchor=(1.4, 1))\n",
    "    plt.xlabel('Season')\n",
    "    plt.ylabel(stat.capitalize())\n",
    "    plt.title(f'Mean and WS Winner {stat.capitalize()} Values by Season')\n",
    "    plt.show()"
   ]
  },
  {
   "cell_type": "markdown",
   "metadata": {},
   "source": [
    "Almost all World Series winners have been above average in each of the above 5 batting statistics over the last 10 seasons. This supports our conclusions from the first visualization, which is that World Series winners perform well in these categories and that they may be better at predicting playoff success than regular season wins. Another next step will be to look at pitching stats in this same manner."
   ]
  },
  {
   "cell_type": "markdown",
   "metadata": {},
   "source": [
    "## Analysis/ML Plan:\n",
    "The model that we feel that will be most appropriate for this would be a multi variate regression model to calculate the playoff performance and the chance of a team winning the World Series. Further more, we would figure out which which metrics are the greatest predictors of World Series winners. We can investigate linear regression with variety of inputs and predictors such as individual player statistics,payrolls,and injuries to see if we can accuractely predict whether a team will win the World Series. All of these factors could definitely play a roll in our model, however the one that stands out the most would probably be player statistics. Some player statistics that could have a huge impact woould be important stats such as batting average. It would also be important to consider other forms of regresison such as polynomial regresison. In conclusion, we will probably ending using a multi variate regression model to calculate playoff performances.\n",
    "\n",
    "However, we recognize that playoff performance is a qualitative data point (i.e., \"won World Series,\" \"lost in NLCS,\" etc.), and while it can be quantified (e.g., made playoffs = 1, won Wild Card round = 2, ..., won World Series = 5), there's only a few possible outcomes, which may make regression difficult to implement usefully. Therefore, we expect we might need to switch to more qualitative ML models such as multivariate perceptrons, decision trees, random forests, etc. to get higher utility results. For instance, we might use a team's batting average, OPS, pitching staff ERA, and pitching staff WHIP to predict whether a team will make it to the playoffs - if they do, then predict whether a team will win the Wild Card round ... - until eventually, the remaining teams will be used to predict which will win the World Series.  "
   ]
  },
  {
   "cell_type": "markdown",
   "metadata": {},
   "source": [
    "## Machine Learning and Results"
   ]
  },
  {
   "cell_type": "code",
   "execution_count": 14,
   "metadata": {},
   "outputs": [],
   "source": [
    "def rf_classifier(df, x_feat_list, y=None, max_depth=4, n_splits=6, cross_val=False):\n",
    "    \"\"\" build a Random Forest Classifier model\n",
    "    \n",
    "    Args: \n",
    "        df (pd.DataFrame): dataframe to run\n",
    "        x_feat_list (list): list of columns in df being used to predict the y feature\n",
    "        y (str): column in df to predict\n",
    "        max_depth (int): maximum depth each decision tree in the random forest should go\n",
    "        cross_val (bool): if True, model should be cross validated\n",
    "        n_splits (int): if model is meant to be cross validated, this\n",
    "        is how many times to split the data when cross validating\n",
    "    Returns:\n",
    "        rf_class (RandomForestClassifier): a random forest classifier model\n",
    "    \"\"\"\n",
    "    # default x_feat_list, features to predict stats upon\n",
    "    if x_feat_list is None:\n",
    "        x_feat_list = ['R/G', 'BA', 'OPS', 'ERA', 'WHIP', 'SO9']\n",
    "    \n",
    "    # default y, feature to estimate\n",
    "    if y is None:\n",
    "        y = 'Playoff Round'\n",
    "\n",
    "    # get columns of predictor stats (x), and get column of feature being predicted (y)\n",
    "    x = df[x_feat_list].values\n",
    "    y_true = df[y].values\n",
    "\n",
    "    # initialize a rf_classifier with a max depth of default 4\n",
    "    rf_class = RandomForestClassifier(n_estimators=100, max_depth=max_depth)\n",
    "\n",
    "    # run non-cross validated model\n",
    "    if cross_val == False:\n",
    "        rf_class.fit(x, y_true)\n",
    "        # predict y (from classifier)\n",
    "        y_pred = rf_class.predict(x)\n",
    "        return rf_class\n",
    "    \n",
    "    # construction of kfold object with n folds\n",
    "    kfold = KFold(n_splits=n_splits)\n",
    "\n",
    "    # allocate an empty array to store predictions in\n",
    "    y_pred = copy(y_true)\n",
    "\n",
    "    for train_idx, test_idx in kfold.split(x, y_true):\n",
    "        # build arrays which correspond to x, y train /test\n",
    "        x_test = x[test_idx, :]\n",
    "        x_train = x[train_idx, :]\n",
    "        y_true_train = y_true[train_idx]\n",
    "\n",
    "        # modify rf_classifier internal state to remember all training samples\n",
    "        rf_class.fit(x_train, y_true_train)\n",
    "\n",
    "        # estimate each team's playoff outcome (round they make it to)\n",
    "        y_pred[test_idx] = rf_class.predict(x_test)\n",
    "    \n",
    "    #return y_true, y_pred\n",
    "    return rf_class"
   ]
  },
  {
   "cell_type": "code",
   "execution_count": 15,
   "metadata": {},
   "outputs": [],
   "source": [
    "def plot_feat_import(feat_list, feat_import, show=True, sort=True, limit=None):\n",
    "    \"\"\" plots feature importances in a horizontal bar chart\n",
    "    \n",
    "    Args:\n",
    "        feat_list (list): str names of features\n",
    "        feat_import (np.array): feature importances (mean gini reduce)\n",
    "        show (bool): if True, shows the bar graph of important features\n",
    "        sort (bool): if True, sorts features in decreasing importance\n",
    "            from top to bottom of plot\n",
    "        limit (int): if passed, limits the number of features shown\n",
    "            to this value\n",
    "    \n",
    "    Returns:\n",
    "        feat_list (list): the n number of stats with the highest Gini values, where n=limit\n",
    "    \"\"\"\n",
    "    if sort:\n",
    "        # sort features in decreasing importance\n",
    "        idx = np.argsort(feat_import).astype(int)\n",
    "        feat_list = [feat_list[_idx] for _idx in idx]\n",
    "        feat_import = feat_import[idx]\n",
    "        #print(feat_import)\n",
    "        #print(idx)\n",
    "        \n",
    "    if limit is not None:\n",
    "        # limit to the first limit feature\n",
    "        #feat_list = feat_list[:limit]\n",
    "        #feat_import = feat_import[:limit]\n",
    "        feat_list = feat_list[-limit:]\n",
    "        feat_import = feat_import[-limit:]\n",
    "    \n",
    "    if show == True:\n",
    "        # plot and label feature importance\n",
    "        plt.barh(feat_list, feat_import)\n",
    "        plt.gcf().set_size_inches(5, len(feat_list) / 2)\n",
    "        plt.xlabel('Feature importance\\n(Mean decrease in Gini across all Decision Trees)')\n",
    "        plt.show()\n",
    "    return feat_list"
   ]
  },
  {
   "cell_type": "code",
   "execution_count": 16,
   "metadata": {},
   "outputs": [],
   "source": [
    "# run rf classifier on ranked df and ranked playoff teams-only df\n",
    "x_feat_list = list(master_df_ranked.columns)[2:-1]\n",
    "rf_clf_ranked = rf_classifier(master_df_ranked, x_feat_list, y='Playoff Round', cross_val=True)\n",
    "rf_clf_ranked_playoffs = rf_classifier(master_df_ranked_playoffs, x_feat_list, y='Playoff Round', cross_val=True)"
   ]
  },
  {
   "cell_type": "code",
   "execution_count": 18,
   "metadata": {},
   "outputs": [
    {
     "data": {
      "image/png": "[encoded data removed]",
      "text/plain": [
       "<Figure size 360x180 with 1 Axes>"
      ]
     },
     "metadata": {
      "needs_background": "light"
     },
     "output_type": "display_data"
    },
    {
     "data": {
      "image/png": "[encoded data removed]",
      "text/plain": [
       "<Figure size 360x180 with 1 Axes>"
      ]
     },
     "metadata": {
      "needs_background": "light"
     },
     "output_type": "display_data"
    },
    {
     "data": {
      "text/plain": [
       "['BB.1', 'OBP', 'OPS', 'SB', '2B']"
      ]
     },
     "execution_count": 18,
     "metadata": {},
     "output_type": "execute_result"
    }
   ],
   "source": [
    "# show rf classifier results\n",
    "plot_feat_import(x_feat_list, rf_clf_ranked.feature_importances_, limit=5)\n",
    "plot_feat_import(x_feat_list, rf_clf_ranked_playoffs.feature_importances_, limit=5)"
   ]
  },
  {
   "cell_type": "code",
   "execution_count": 19,
   "metadata": {},
   "outputs": [],
   "source": [
    "# build dictionary of stats and how many times they had high Gini scores in rf classifier iterations\n",
    "feat_import_counts = {}\n",
    "for i in range(50):\n",
    "    rf_clf_ranked_playoffs = rf_classifier(master_df_ranked_playoffs,\n",
    "                                           x_feat_list,\n",
    "                                           cross_val=True)\n",
    "    temp_import_feats = plot_feat_import(x_feat_list,\n",
    "                                         rf_clf_ranked_playoffs.feature_importances_,\n",
    "                                         show=False,\n",
    "                                         limit=5)\n",
    "    for feat in temp_import_feats:\n",
    "        if feat in feat_import_counts.keys():\n",
    "            feat_import_counts[feat] += 1\n",
    "        else:\n",
    "            feat_import_counts[feat] = 1"
   ]
  },
  {
   "cell_type": "code",
   "execution_count": 20,
   "metadata": {},
   "outputs": [
    {
     "data": {
      "image/png": "[encoded data removed]",
      "text/plain": [
       "<Figure size 1584x576 with 1 Axes>"
      ]
     },
     "metadata": {
      "needs_background": "light"
     },
     "output_type": "display_data"
    }
   ],
   "source": [
    "plt.bar(feat_import_counts.keys(), feat_import_counts.values())\n",
    "plt.yticks(list(range(0, 55, 5)))\n",
    "\n",
    "plt.xlabel('Team Batting and Pitching Stats', fontsize=16)\n",
    "plt.ylabel('# Times Feature Top 10 Gini Score in RF Classifier', fontsize=16)\n",
    "plt.title('# of Times Each Stat had a Top 5 Gini Score in a RF Classifier to Predict Playoff Success',\n",
    "          fontsize=20)\n",
    "plt.gcf().set_size_inches(22, 8)\n",
    "plt.show()"
   ]
  },
  {
   "cell_type": "code",
   "execution_count": 21,
   "metadata": {},
   "outputs": [],
   "source": [
    "def train_dec_tree(df, year, feature_list):\n",
    "    \"\"\" trains a decision tree to predict teams' Playoff Rounds using batting and/or pitching stats\n",
    "    \n",
    "    Args:\n",
    "        df (pd.DataFrame): df to train decision tree on\n",
    "        year (int): season to make predictions for\n",
    "        feature_list (list): stats to train decision tree with to predict Playoff Round\n",
    "    \n",
    "    Returns:\n",
    "        predicted_playoff_round_dict (dict): keys are teams, values are predicted Playoff Round\n",
    "        accuracy (float): the cross validated accuracy score of the decision tree\n",
    "    \"\"\"\n",
    "    predicted_playoff_round_dict = {}\n",
    "    \n",
    "    # runs until only 1 team is predicted to win WS, not 0 or 2+\n",
    "    while list(predicted_playoff_round_dict.values()).count(5) != 1:\n",
    "        predicted_playoff_round_dict = {}\n",
    "    \n",
    "        # Filter data for the specified year\n",
    "        train_data = df[(df['Season'] != year)]\n",
    "\n",
    "        # x features being used to predict target, which is 'Playoff Round'\n",
    "        features_train = train_data[feature_list]\n",
    "        target_train = train_data['Playoff Round']\n",
    "\n",
    "        # split training data into training and validation sets\n",
    "        X_train, X_val, y_train, y_val = train_test_split(features_train, target_train, test_size=0.3)#, random_state=42)\n",
    "\n",
    "        # Initialize the decision tree classifier\n",
    "        clf = DecisionTreeClassifier()#(random_state=42)\n",
    "\n",
    "        # Train the classifier on the training data\n",
    "        clf.fit(X_train, y_train)\n",
    "\n",
    "        # Make predictions on the validation set\n",
    "        predictions_val = clf.predict(X_val)\n",
    "\n",
    "        # Get a list of all teams for prediction\n",
    "        teams_to_predict = df[df['Season'] == year]['Tm']\n",
    "\n",
    "        # build dictionary of playoff predictions\n",
    "        for team in teams_to_predict:\n",
    "            team_features = df[(df['Season'] == year) & (df['Tm'] == team)][feature_list]\n",
    "            predicted_playoff_round = clf.predict(team_features)\n",
    "            predicted_playoff_round_dict[team] = predicted_playoff_round[0]\n",
    "        \n",
    "    # compute model accuracy on validation set\n",
    "    accuracy = accuracy_score(y_val, predictions_val)\n",
    "            \n",
    "    return predicted_playoff_round_dict, accuracy"
   ]
  },
  {
   "cell_type": "code",
   "execution_count": 77,
   "metadata": {},
   "outputs": [],
   "source": [
    "# alt to above: testing if can CV w/out splitting into train and test 2x over \n",
    "def train_dec_tree_2(df, year, feature_list):\n",
    "    predicted_playoff_round_dict = {}\n",
    "    \n",
    "    # runs until only 1 team is predicted to win WS, not 0 or 2+\n",
    "    while list(predicted_playoff_round_dict.values()).count(5) != 1:\n",
    "        predicted_playoff_round_dict = {}\n",
    "    \n",
    "        # Filter data for the specified year\n",
    "        train_data = df[(df['Season'] != year)]\n",
    "        test_data = df[(df['Season'] == year)]\n",
    "\n",
    "        # split training data into training and validation sets\n",
    "        x_train = train_data[feature_list]\n",
    "        x_test = test_data[feature_list]\n",
    "        y_train = train_data['Playoff Round']\n",
    "        y_test = test_data['Playoff Round']\n",
    "\n",
    "        # Initialize the decision tree classifier\n",
    "        clf = DecisionTreeClassifier()\n",
    "\n",
    "        # Train the classifier on the training data\n",
    "        clf.fit(x_train, y_train)\n",
    "\n",
    "        # Make predictions on the validation set\n",
    "        y_pred = clf.predict(x_test)\n",
    "\n",
    "        # get list of all teams\n",
    "        teams = df[df['Season'] == year]['Tm']\n",
    "\n",
    "        # build dict of playoff predictions (only include teams that actually made the playoffs)\n",
    "        playoff_preds = pd.DataFrame()\n",
    "        playoff_preds = pd.concat([df[df['Season'] == year]['Tm'], pd.Series(y_pred).to_frame()], axis=1)\n",
    "        #for idx, row in df[df['Season'] == year].iterrows():\n",
    "            #if row[-1] != 0:\n",
    "                #predicted_playoff_round_dict[row[1]] = y_pred[idx]\n",
    "\n",
    "            #predicted_playoff_round_dict[row[1]] = y_pred[i]\n",
    "            #i += 1\n",
    "    \n",
    "    # compute model accuracy on validation set\n",
    "    accuracy = accuracy_score(y_test, y_pred)\n",
    "\n",
    "    return y_pred, playoff_preds, accuracy"
   ]
  },
  {
   "cell_type": "code",
   "execution_count": 101,
   "metadata": {},
   "outputs": [],
   "source": [
    "# alt to 2 above: testing if can CV w/out splitting into train and test 2x over \n",
    "# also alt to alt b/c no while loop\n",
    "def train_dec_tree_3(df, year, feature_list):\n",
    "    predicted_playoff_round_dict = {}\n",
    "    \n",
    "    # Filter data for the specified year\n",
    "    train_data = df[(df['Season'] != year)]\n",
    "    test_data = df[(df['Season'] == year)]\n",
    "\n",
    "    # split training data into training and validation sets\n",
    "    x_train = train_data[feature_list]\n",
    "    x_test = test_data[feature_list]\n",
    "    y_train = train_data['Playoff Round']\n",
    "    y_test = test_data['Playoff Round']\n",
    "\n",
    "    # Initialize the decision tree classifier\n",
    "    clf = DecisionTreeClassifier()\n",
    "\n",
    "    # Train the classifier on the training data\n",
    "    clf.fit(x_train, y_train)\n",
    "\n",
    "    # Make predictions on the validation set\n",
    "    y_pred = clf.predict(x_test)\n",
    "\n",
    "    # get list of all teams\n",
    "    teams = df[df['Season'] == year]['Tm'].reset_index(drop=True)\n",
    "    team_series = pd.Series(teams)\n",
    "\n",
    "    # build df of playoff predictions (only include teams that actually made the playoffs)\n",
    "    playoff_preds = pd.DataFrame()\n",
    "    preds_series = pd.Series(y_pred, name='Predicted Playoff Round').reset_index(drop=True)\n",
    "    actual_series = pd.Series(df[df['Season'] == year]['Playoff Round'],\n",
    "                              name='Actual Playoff Round').reset_index(drop=True)\n",
    "    playoff_preds = pd.concat([team_series.to_frame(), actual_series.to_frame(), preds_series.to_frame()], axis=1)\n",
    "    \n",
    "    # compute model accuracy on validation set\n",
    "    accuracy = accuracy_score(y_test, y_pred)\n",
    "\n",
    "    return y_pred, playoff_preds, accuracy"
   ]
  },
  {
   "cell_type": "code",
   "execution_count": 116,
   "metadata": {},
   "outputs": [
    {
     "name": "stdout",
     "output_type": "stream",
     "text": [
      "5\n"
     ]
    }
   ],
   "source": [
    "if (playoff_preds[playoff_preds['Actual Playoff Round'] == 5]['Predicted Playoff Round'] == 5).any():\n",
    "    print(5)"
   ]
  },
  {
   "cell_type": "code",
   "execution_count": 122,
   "metadata": {},
   "outputs": [
    {
     "name": "stdout",
     "output_type": "stream",
     "text": [
      "BatAge 0.0\n",
      "R 0.0\n",
      "H 0.0\n",
      "2B 0.0\n",
      "3B 0.0\n",
      "HR 0.0\n",
      "RBI 0.0\n",
      "SB 0.0\n",
      "CS 0.0\n",
      "BB 0.0\n",
      "SO 0.0\n",
      "BA 0.0\n",
      "OBP 0.0\n",
      "SLG 0.0\n",
      "OPS 0.0\n",
      "OPS+ 0.0\n",
      "GDP 0.0\n",
      "HBP 0.0\n",
      "SH 0.0\n",
      "SF 0.0\n",
      "IBB 0.0\n",
      "LOB 0.0\n",
      "PAge 0.0\n",
      "W 0.0\n",
      "L 0.0\n",
      "ERA 0.0\n",
      "GS 0.0\n",
      "GF 0.0\n",
      "CG 0.0\n",
      "tSho 0.0\n",
      "cSho 0.0\n",
      "SV 0.0\n",
      "IP 0.0\n",
      "H.1 0.0\n",
      "R.1 0.0\n",
      "ER 0.0\n",
      "HR.1 0.0\n",
      "BB.1 0.0\n",
      "IBB.1 0.0\n",
      "SO.1 0.0\n",
      "HBP.1 0.0\n",
      "BK 0.0\n",
      "WP 0.0\n",
      "ERA+ 0.0\n",
      "FIP 0.0\n",
      "WHIP 0.0\n",
      "LOB.1 0.0\n",
      "All: 0.08\n"
     ]
    }
   ],
   "source": [
    "# testing my alt dec tree function above that doesn't split into train and test data 2x over\n",
    "x_feat_list = list(master_df_ranked_playoffs.columns)[2:-1]\n",
    "correct_count = 0\n",
    "for feat in x_feat_list:\n",
    "    for year in range(1999, 2024):\n",
    "        y_pred, playoff_preds, accuracy = train_dec_tree_3(master_df_ranked, year, [feat])\n",
    "        if (playoff_preds[playoff_preds['Actual Playoff Round'] == 5]['Predicted Playoff Round'] == 5).any():\n",
    "            correct_count += 1\n",
    "    acc = correct_count / 25\n",
    "    print(feat, acc)\n",
    "for year in range(1999, 2024):\n",
    "    y_pred, playoff_preds, accuracy = train_dec_tree_3(master_df_ranked, year, x_feat_list)\n",
    "    if (playoff_preds[playoff_preds['Actual Playoff Round'] == 5]['Predicted Playoff Round'] == 5).any():\n",
    "        correct_count += 1\n",
    "acc = correct_count / 25\n",
    "print(f'All: {acc}')"
   ]
  },
  {
   "cell_type": "code",
   "execution_count": 34,
   "metadata": {},
   "outputs": [],
   "source": [
    "def predict_playoff_outcome(df, x_stat_list=None, y=None, max_depth=4, plot=True, cross_val=False):\n",
    "    if x_stat_list is None:\n",
    "        x_stat_list = ['R/G', 'BA', 'OPS', 'ERA', 'WHIP', 'SO9']\n",
    "    if y is None:\n",
    "        y = 'Playoff Round'\n",
    "    \n",
    "    y = df[y].values\n",
    "    x = df[x_stat_list].values\n",
    "    \n",
    "    # set up the array of predictions to fill out\n",
    "    y_pred = np.empty(len(x))\n",
    "\n",
    "    # split data into training and testing sets to perform leave-one-out cross validation\n",
    "    Xtrain, Xtest, ytrain, ytest = train_test_split(x, y, test_size=0.3)\n",
    "\n",
    "    # build decision tree classifier\n",
    "    dec_tree_clf = tree.DecisionTreeClassifier(max_depth=max_depth)\n",
    "\n",
    "    # fit data\n",
    "    dec_tree_clf = dec_tree_clf.fit(Xtrain, ytrain)\n",
    "    \n",
    "    # predict data on test set\n",
    "    y_pred = dec_tree_clf.predict(Xtest)\n",
    "    \n",
    "    # compute accuracy score\n",
    "    accuracy = accuracy_score(ytest, y_pred)\n",
    "    \n",
    "    return ytest, y_pred, accuracy"
   ]
  },
  {
   "cell_type": "code",
   "execution_count": 35,
   "metadata": {},
   "outputs": [],
   "source": [
    "def remove_nonplayoff_teams(y_true, y_pred):\n",
    "    \"\"\" removes all 0s from an array of team playoff outcomes and predicted playoff outcomes so the only data\n",
    "        remaining in the datasets are instances of teams that did make the playoffs.\n",
    "    \n",
    "    Args:\n",
    "        y_true (np.array): quantified playoff success data \n",
    "        y_pred (np.array): quantified predictions of playoff success for the y_true dataset\n",
    "    \n",
    "    Returns:\n",
    "        y_true, y_pred (tup): both original arrays with the elements of y_true that were 0 removed and the\n",
    "        elements in the equivalent indexes of y_pred removed\n",
    "    \"\"\"\n",
    "    \n",
    "    idx = 0\n",
    "    while idx < len(y_true):\n",
    "        if y_true[idx] == 0:\n",
    "            y_true = np.delete(y_true, idx)\n",
    "            y_pred = np.delete(y_pred, idx)\n",
    "        else:\n",
    "            idx += 1\n",
    "    \n",
    "    return y_true, y_pred"
   ]
  },
  {
   "cell_type": "code",
   "execution_count": 444,
   "metadata": {},
   "outputs": [
    {
     "name": "stdout",
     "output_type": "stream",
     "text": [
      "Average WS Champion Prediction Accuracy Over 1 Decision Tree Iterations: 0.09\n"
     ]
    }
   ],
   "source": [
    "# this code is same as code below (or above) but runs decision trees on all 25 seasons multiple times over\n",
    "total_accuracy = 0\n",
    "num_dec_trees = 10\n",
    "for i in range(num_dec_trees):\n",
    "    correct_count = 0\n",
    "    for year in range(1999, 2024):\n",
    "        #x_feat_list = ['2B', 'SB', 'IBB', 'OBP']\n",
    "        x_feat_list = list(master_df_ranked_playoffs.columns)[2:-1]\n",
    "        playoff_predict_dict, accuracy = train_dec_tree(master_df_ranked_playoffs, year, x_feat_list)\n",
    "        for team in playoff_predict_dict.keys():\n",
    "            if playoff_predict_dict[team] == 5:\n",
    "                if team == ws_winner_dict[year]:\n",
    "                    correct_count += 1\n",
    "                break\n",
    "    total_accuracy += correct_count / 25\n",
    "avg_accuracy = round(total_accuracy / num_dec_trees, 2)\n",
    "print(f'Average WS Champion Prediction Accuracy Over {count} Decision Tree Iterations: {avg_accuracy}')"
   ]
  },
  {
   "cell_type": "code",
   "execution_count": null,
   "metadata": {},
   "outputs": [],
   "source": [
    "accuracy_dict = {}\n",
    "total_acc = 0\n",
    "avg_acc = 0\n",
    "x_feats_batting = ['BatAge', 'R/G', 'H', 'HR', 'RBI', 'BB', 'SO', 'BA', 'OBP', 'SLG', 'OPS', 'OPS+']\n",
    "for x_feat in x_feats_batting:\n",
    "    total_acc = 0\n",
    "    for year in range(1999, 2024):\n",
    "        playoff_predict_dict, accuracy = train_dec_tree(master_df_ranked_playoffs, year, [x_feat])\n",
    "        total_acc += accuracy\n",
    "    avg_acc = total_acc / 10\n",
    "    accuracy_dict[x_feat] = accuracy\n",
    "accuracy_dict"
   ]
  },
  {
   "cell_type": "code",
   "execution_count": null,
   "metadata": {},
   "outputs": [],
   "source": [
    "plt.bar(accuracy_dict.keys(), accuracy_dict.values())\n",
    "plt.yticks([0, 0.00, 0.02, 0.04, 0.06, 0.08, 0.1])\n",
    "plt.ylim(0, 0.1)\n",
    "plt.show()"
   ]
  },
  {
   "cell_type": "code",
   "execution_count": null,
   "metadata": {},
   "outputs": [],
   "source": [
    "# run decision trees for stats inidividually, then plots WS champion prediction accuracy results by stat\n",
    "total_accuracy = 0\n",
    "accuracy_dict = {}\n",
    "x_feat_list = master_df_ranked_playoffs.columns[2:-1]\n",
    "x_feat_list_batting = master_df_ranked_playoffs.columns[2:26]\n",
    "x_feat_list_pitching = master_df_ranked_playoffs.columns[26:-1]\n",
    "#x_feats_batting = ['BatAge', 'R/G', 'H', '2B', 'HR', 'RBI', 'SB', 'BB', 'SO', 'BA', 'OBP', 'SLG', 'OPS', 'OPS+','LOB']\n",
    "x_feats_batting = ['H', 'HR', 'BA', 'OPS']\n",
    "#x_feats_batting = ['BatAge', 'R/G', 'H', 'HR', 'RBI', 'BB', 'SO', 'BA', 'OBP', 'SLG', 'OPS', 'OPS+']\n",
    "x_feats_pitching = ['PAge', 'RA/G', 'W-L%', 'ERA', 'SV', 'H.1', 'R.1', 'ER', 'HR.1', 'BB.1', 'SO.1', 'ERA+',\n",
    "                    'FIP', 'WHIP']\n",
    "for x_feat in x_feats_batting:\n",
    "    correct_count = 0\n",
    "    for year in range(1999, 2024):\n",
    "        playoff_predict_dict = train_dec_tree(master_df_ranked_playoffs, year, [x_feat])\n",
    "        for team in playoff_predict_dict.keys():\n",
    "            if playoff_predict_dict[team] == 5:\n",
    "                if team == ws_winner_dict[year]:\n",
    "                    correct_count += 1\n",
    "                break\n",
    "    total_accuracy += correct_count / 25\n",
    "    accuracy_dict[x_feat] = round(total_accuracy, 2)\n",
    "    print(accuracy_dict)\n",
    "plt.bar(accuracy_dict.keys(), accuracy_dict.values())\n"
   ]
  },
  {
   "cell_type": "code",
   "execution_count": 439,
   "metadata": {},
   "outputs": [
    {
     "name": "stdout",
     "output_type": "stream",
     "text": [
      "Average WS Champion Prediction Accuracy Over 1 Decision Tree Iterations: 0.18\n"
     ]
    }
   ],
   "source": [
    "# this code is same as code below (or above) but runs decision trees on all 25 seasons multiple times over\n",
    "total_accuracy = 0\n",
    "num_dec_trees = 10\n",
    "for i in range(num_dec_trees):\n",
    "    correct_count = 0\n",
    "    for year in range(1999, 2024):\n",
    "        x_feat_list = ['2B']\n",
    "        playoff_predict_dict = train_dec_tree(master_df_ranked_playoffs, year, features_to_use)\n",
    "        for team in playoff_predict_dict.keys():\n",
    "            if playoff_predict_dict[team] == 5:\n",
    "                if team == ws_winner_dict[year]:\n",
    "                    correct_count += 1\n",
    "    total_accuracy += correct_count / 25\n",
    "avg_accuracy = round(total_accuracy / num_dec_trees, 2)\n",
    "print(f'Average WS Champion Prediction Accuracy Over {count} Decision Tree Iterations: {avg_accuracy}')"
   ]
  },
  {
   "cell_type": "code",
   "execution_count": null,
   "metadata": {},
   "outputs": [],
   "source": [
    "correct_count = 0\n",
    "for year in range(1999, 2024):\n",
    "    #x_feat_list = ['2B', 'SB', 'IBB', 'OBP']\n",
    "    x_feat_list = list(master_df_ranked_playoffs.columns)[2:-1]\n",
    "    playoff_predict_dict = train_dec_tree(master_df_ranked_playoffs, year, features_to_use)\n",
    "    for team in playoff_predict_dict.keys():\n",
    "        if playoff_predict_dict[team] == 5:\n",
    "            #print(f'Predicted {year} World Series champion: {team}')\n",
    "            if team == ws_winner_dict[year]:\n",
    "                print('CORRECT PREDICTION')\n",
    "                correct_count += 1\n",
    "print(f'Decision Tree WS Champion Prediction Accuracy: {round(correct_count / 25, 2)}')"
   ]
  },
  {
   "cell_type": "code",
   "execution_count": null,
   "metadata": {},
   "outputs": [],
   "source": [
    "x_stat_list_spec = ['R/G', 'BA', 'OPS', 'ERA', 'WHIP', 'SO9']\n",
    "x_stat_list_gen = list(master_df_read.columns)[2:-1]\n",
    "y_test_gen, y_pred_gen, accuracy_gen = predict_playoff_outcome(master_df_read, x_stat_list_gen)\n",
    "y_test_spec, y_pred_spec, accuracy_spec = predict_playoff_outcome(master_df_read, x_stat_list_spec)\n",
    "y_true_filt, y_pred_filt = remove_nonplayoff_teams(y_test_spec, y_pred_spec)\n",
    "print(y_test_gen)\n",
    "print(y_pred_gen)"
   ]
  },
  {
   "cell_type": "code",
   "execution_count": null,
   "metadata": {},
   "outputs": [],
   "source": [
    "predict_playoff_outcome(master_df_read)"
   ]
  }
 ],
 "metadata": {
  "colab": {
   "collapsed_sections": [],
   "provenance": []
  },
  "kernelspec": {
   "display_name": "Python 3",
   "language": "python",
   "name": "python3"
  },
  "language_info": {
   "codemirror_mode": {
    "name": "ipython",
    "version": 3
   },
   "file_extension": ".py",
   "mimetype": "text/x-python",
   "name": "python",
   "nbconvert_exporter": "python",
   "pygments_lexer": "ipython3",
   "version": "3.7.6"
  }
 },
 "nbformat": 4,
 "nbformat_minor": 4
}
