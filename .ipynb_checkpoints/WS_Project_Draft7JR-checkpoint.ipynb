{
 "cells": [
  {
   "cell_type": "markdown",
   "metadata": {},
   "source": [
    "## Report Section Descriptions\n",
    "1. **Abstract** (2\\%): summarizes the main results in a paragraph of no more than 6 sentences which is easily understood by laymen. Link to the graphs or sections later in the report which support each of the claims given in the abstract.\n",
    "2. **Introduction** (2\\%): a final, polished version of Project Proposal parts 1 and 3.\n",
    "3. **Data Description** (2\\%): a final, polished version of Project Proposal part 2 as well as Data and Analysis Plan parts 2-4.\n",
    "4. **Method** (3\\%): A final, polished (and abbreviated) version of Data and Analysis Plan part 5. Additionally, this section should:\n",
    "- Convince a technical expert that the method you chose is sound. Discuss any assumptions/pitfalls of the method and how they might impact the project.\n",
    "- Educate an application expert on the broad outlines of the method you chose, providing a brief explanation of why this method is appropriate for the chosen problem.\n",
    "5. **Results** (3\\%): apply the ML method(s) of your choice, include:\n",
    "- At least one graph of the results. Any graph should be explained in simple terms and easily interpretable on its own with appropriate labelling.\n",
    "- Code and output which is clearly documented and implemented efficiently so as not to distract from the flow of the report.\n",
    "6. **Discussion** (3\\%): interpret your results in the application context. Determine if you found solutions to your questions of interest and explain why/why not. Critique your results; should they be accepted at face value or were some assumptions made inappropriate? What actions should be taken (if any) as a result of the analysis, and how confident are you in these actions? What questions that were unanticipated arose from the analysis, and what should future work/analyses focus on?"
   ]
  },
  {
   "cell_type": "markdown",
   "metadata": {
    "id": "r8DvQZO8Mpv6"
   },
   "source": [
    "# **World Series Predictions**\n",
    "\n",
    "- Justin Radist\n",
    "- Suneet Pathangay\n",
    "- Zhenzhen Liu\n",
    "- Elijah Sandler"
   ]
  },
  {
   "cell_type": "markdown",
   "metadata": {},
   "source": [
    "## Abstract"
   ]
  },
  {
   "cell_type": "markdown",
   "metadata": {},
   "source": [
    "We came to the following results after analyzing our data. For each batting stat, a maximum of three of the last ten World Series winners led the league in that stat during their championship year(Number of World Series Winners Over the Past 25 Seasons that led the MLB in the Various Batting Stats). Additionally, nearly all of the World Series winners in the last 10 seasons have displayed above-average performance in the five specified batting statistics(H, HR, RBi, Ba, and Ops). The results from these statistics show how the regular season is not a good predictor of playoff performance due to there being a ton of randomness amongst different teams statisitcs. We found out that different teams led in different statisitics in both batting and other fields leading to a large level of randomness."
   ]
  },
  {
   "cell_type": "markdown",
   "metadata": {},
   "source": [
    "## Introduction\n",
    "When the Major League Baseball playoffs come around every October, predictions and bets about which team will win the World Series intensify. While there are always differing opinions, the unbiased consensus regarding the favorite is almost always the team with the highest regular season win total. However, this prediction is usually wrong - the winningest regular season team has only won the World Series 4 times in the last 30 seasons (excludes the 1994 season that had no World Series due to a players strike). Further, a 2022 Elder Research study found that teams' perceived skill levels (\"power ratings\") correctly predicted ~56% of regular season winners in simulations but only ~31% of World Series winners. This 25% discrepancy is the largest of the 4 major professional sports organizations in America (MLB, National Football League, National Basketball Association, National Hockey League), and means having such a long regular season (162 games) does not necessarily translate to more predictable World Series winners.\n",
    "\n",
    "This raises some questions regarding World Series predictions:\n",
    "- Why is regular season wins such a poor predictor of World Series champion? Is it primarily due to level of randomness in team performances in each individual game, the format of the playoffs, or other factors?\n",
    "- Do any overall team statistics, have a material impact on playoff performance and World Series winners?\n",
    "- Can we determine metrics that are greater predictors of World Series winners than regular season wins? Can we build a model that predicts these metrics for future seasons and uses these projections to predict future World Series winners?\n",
    "\n",
    "[Elder Research Report](https://www.elderresearch.com/blog/how-often-does-the-best-team-win-the-title/#:~:text=The%20MLB's%20best%20team%2C%20on,the%20best%20regular%20season%20team)"
   ]
  },
  {
   "cell_type": "markdown",
   "metadata": {},
   "source": [
    "## Data Description"
   ]
  },
  {
   "cell_type": "markdown",
   "metadata": {},
   "source": [
    "## Method\n",
    "NOTES FOR GUIDANCE:\n",
    "- EXPLAIN THAT WE USED RANDOM FOREST CLASSIFIER TO DETERMINE FEATURE IMPORTANCE AND THEN DECISION TREE CLASSIFIER TO PREDICT PLAYOFF OUTCOMES.\n"
   ]
  },
  {
   "cell_type": "markdown",
   "metadata": {},
   "source": [
    "## Results"
   ]
  },
  {
   "cell_type": "markdown",
   "metadata": {},
   "source": [
    "## Discussion\n"
   ]
  },
  {
   "cell_type": "markdown",
   "metadata": {
    "id": "cwixuBfBNKN7"
   },
   "source": [
    "## Project Goal:"
   ]
  },
  {
   "cell_type": "markdown",
   "metadata": {},
   "source": [
    "Our project aims to explore the relationship between various MLB team and individual player statistics and the performance of teams in the playoffs and World Series. We have chosen to focus on common batting and pitching statistics for teams and individual players over the last 25-30 years. We may also focus on other pieces of data such as payrolls, team injuries, fan base support and stadium dimensions. Specifically, we ask:\n",
    "- What metrics - whether they be certain team statistics, individual player statistics, injuries, payrolls, fan bases, stadiums, etc. - have a material impact on playoff performance and World Series winners?\n",
    "- Can we determine metrics that are greater predictors of World Series winners than regular season wins? Can we build a model that predicts these metrics for future seasons and uses these projections to predict future World Series winners?\n",
    "\n",
    "We are using https://www.baseball-reference.com/ for our main data source, which we will webscrape from. We are not using any API."
   ]
  },
  {
   "cell_type": "markdown",
   "metadata": {
    "id": "xM_kK_6ol2-x"
   },
   "source": [
    "## Pipeline Overview:"
   ]
  },
  {
   "cell_type": "markdown",
   "metadata": {
    "id": "rOrHrSQwmPNF"
   },
   "source": [
    "We have already written several functions for scraping the Baseball Reference website:\n",
    "- build_player_url() and build_team_url()\n",
    "    - Builds the URLs needed to access a certain player's or team's statistics page.\n",
    "- get_batting_df() & get_pitching_df(()\n",
    "    - Get tables of a team's batting and pitching statistics, respectively, for a given season.\n",
    "- get_season_batting_df()\n",
    "    - Get batting stats by team for a given season. We'll add a get_season_pitching_df(season) function soon.\n",
    "- get_player_df()\n",
    "     - Along with get_player_dict(), builds dataframes of a player's common careers stats table."
   ]
  },
  {
   "cell_type": "markdown",
   "metadata": {
    "id": "rclg500lS2Oc"
   },
   "source": [
    "### Pipeline:"
   ]
  },
  {
   "cell_type": "markdown",
   "metadata": {},
   "source": [
    "#### Webscraping and Data Cleaning"
   ]
  },
  {
   "cell_type": "code",
   "execution_count": 2,
   "metadata": {},
   "outputs": [
    {
     "name": "stderr",
     "output_type": "stream",
     "text": [
      "C:\\Users\\elija\\anaconda3\\lib\\site-packages\\scipy\\__init__.py:146: UserWarning: A NumPy version >=1.16.5 and <1.23.0 is required for this version of SciPy (detected version 1.26.2\n",
      "  warnings.warn(f\"A NumPy version >={np_minversion} and <{np_maxversion}\"\n"
     ]
    }
   ],
   "source": [
    "# import statements\n",
    "import requests\n",
    "from bs4 import BeautifulSoup\n",
    "import pandas as pd\n",
    "from collections import defaultdict\n",
    "import numpy as np\n",
    "import matplotlib.pyplot as plt\n",
    "import seaborn as sns\n",
    "import time\n",
    "#import re\n",
    "from bs4 import Comment\n",
    "from sklearn.ensemble import RandomForestClassifier\n",
    "from sklearn.tree import DecisionTreeClassifier\n",
    "from sklearn.model_selection import train_test_split\n",
    "from sklearn.model_selection import KFold\n",
    "from sklearn.metrics import accuracy_score\n",
    "from sklearn import tree\n",
    "from copy import copy\n",
    "import random"
   ]
  },
  {
   "cell_type": "markdown",
   "metadata": {},
   "source": [
    "#### 2. Cleaning Data and Building Dataframes"
   ]
  },
  {
   "cell_type": "code",
   "execution_count": 3,
   "metadata": {},
   "outputs": [],
   "source": [
    "dict_team_batting = defaultdict(lambda: dict())\n",
    "def get_batting_df(team_code, dict_team_batting=dict_team_batting, year=2023):\n",
    "    \"\"\" Gets the batting table for a given team. if table is not stored, adds it to dictionary \n",
    "    \n",
    "    Args:\n",
    "        team_code (str): short team abbreviation used by Baseball Reference\n",
    "        dict_team_batting (dict): dictionary containing all queries we've made before\n",
    "        year(int): the year we want data from, defaults to 2023\n",
    "\n",
    "    Returns:\n",
    "        dict_team_batting[year][team_code] (pd.DataFrame): dataframe of batting stats for given team and year\n",
    "    \"\"\"\n",
    "    \n",
    "    if team_code in dict_team_batting.keys():\n",
    "        return dict_team_batting[year][team_code]\n",
    "    \n",
    "    else:\n",
    "        url = f\"https://www.baseball-reference.com/teams/{team_code}/{str(year)}.shtml\"\n",
    "        df_batting = pd.read_html(url)[0]\n",
    "        time.sleep(4)\n",
    "        \n",
    "        df_filtered = pd.DataFrame()\n",
    "        for idx in df_batting.index:\n",
    "            try:\n",
    "                int(df_batting.loc[idx, 'Rk'])\n",
    "                df_filtered = pd.concat([df_filtered, df_batting.loc[idx, :]], axis=1)\n",
    "            except(ValueError):\n",
    "                pass\n",
    "        \n",
    "        dict_team_batting[year][team_code] = df_filtered.T\n",
    "        \n",
    "    return dict_team_batting[year][team_code]"
   ]
  },
  {
   "cell_type": "code",
   "execution_count": 4,
   "metadata": {},
   "outputs": [],
   "source": [
    "dict_team_pitching = defaultdict(lambda: dict())\n",
    "def get_pitching_df(team_code, dict_team_pitching=dict_team_pitching, year=2023):\n",
    "    \"\"\" Gets the pitching table for a given team. if table is not stored, adds it to dictionary \n",
    "    \n",
    "    Args:\n",
    "        team_code (str): short team abbreviation used by baseball reference\n",
    "        dict_team_pitching (dict): dictionary containing all queries we've made before\n",
    "        year(int): year we want data from, defaults to 2023\n",
    "    Returns:\n",
    "        dict_team_pitching[year][team_code] (pd.DataFrame): dataframe of pitching stats for given team and year\n",
    "    \"\"\"\n",
    "    \n",
    "    if team_code in dict_team_pitching[year].keys():\n",
    "        return dict_team_pitching[year][team_code]\n",
    "    \n",
    "    else:\n",
    "        url = f\"https://www.baseball-reference.com/teams/{team_code}/{str(year)}.shtml\"\n",
    "        df_pitching = pd.read_html(url)[1]\n",
    "        time.sleep(4)\n",
    "        \n",
    "        df_filtered = pd.DataFrame()\n",
    "        for idx in df_pitching.index:\n",
    "            try:\n",
    "                int(df_pitching.loc[idx, 'Rk'])\n",
    "                df_filtered = pd.concat([df_filtered, df_pitching.loc[idx, :]], axis=1)\n",
    "            except(ValueError):\n",
    "                pass\n",
    "          \n",
    "        dict_team_pitching[year][team_code] = df_filtered.T\n",
    "        \n",
    "    return dict_team_pitching[year][team_code]"
   ]
  },
  {
   "cell_type": "code",
   "execution_count": 5,
   "metadata": {},
   "outputs": [],
   "source": [
    "# currently only used for a data analysis plan graph\n",
    "def get_season_batting_df(season):\n",
    "    \"\"\" Gets a table of common batting stats organized by MLB team for a given season\n",
    "    Args:\n",
    "        season (int): the season to get data for\n",
    "    \n",
    "    Returns:\n",
    "         df_season_batting (pd.DataFrame): a dataframe of batting stats by team for a season\n",
    "    \"\"\"\n",
    "    url = f'https://www.baseball-reference.com/leagues/majors/{season}.shtml'\n",
    "    \n",
    "    df_season_batting = pd.read_html(url)[0]\n",
    "    time.sleep(4)\n",
    "    \n",
    "    return df_season_batting"
   ]
  },
  {
   "cell_type": "code",
   "execution_count": 6,
   "metadata": {},
   "outputs": [],
   "source": [
    "team_abbrevs_dict = {'Arizona Diamondbacks': 'ARI', 'Atlanta Braves': 'ATL', 'Baltimore Orioles': 'BAL',\n",
    "                     'Boston Red Sox': 'BOS', 'Chicago Cubs': 'CHC', 'Chicago White Sox': 'CWS',\n",
    "                     'Cincinnati Reds': 'CIN', 'Cleveland Guardians': 'CLE', 'Colorado Rockies': 'COL',\n",
    "                     'Detroit Tigers': 'DET', 'Houston Astros': 'HOU', 'Kansas City Royals': 'KAN',\n",
    "                     'Los Angeles Angels': 'LAA', 'Los Angeles Dodgers': 'LAD', 'Miami Marlins': 'MIA',\n",
    "                     'Milwaukee Brewers': 'MIL', 'Minnesota Twins': 'MIN', 'New York Mets': 'NYM',\n",
    "                     'New York Yankees': 'NYY', 'Oakland Athletics': 'OAK', 'Philadelphia Phillies': 'PHI',\n",
    "                     'Pittsburgh Pirates': 'PIT', 'San Diego Padres': 'SDP', 'San Francisco Giants': 'SFG',\n",
    "                     'Seattle Mariners': 'SEA', 'St. Louis Cardinals': 'STL', 'Tampa Bay Rays': 'TBR',\n",
    "                     'Texas Rangers': 'TEX', 'Toronto Blue Jays': 'TOR', 'Washington Nationals': 'WAS'}"
   ]
  },
  {
   "cell_type": "code",
   "execution_count": 7,
   "metadata": {},
   "outputs": [],
   "source": [
    "# get the World Series information\n",
    "table = pd.read_html(\"https://www.baseball-reference.com/postseason/world-series.shtml\")\n",
    "time.sleep(4)\n",
    "ws_data = table[0]\n",
    "\n",
    "# rename win and win1 to AL Wins and NL Wins, respectively\n",
    "ws_data.rename(columns={ws_data.columns[2]: 'AL Wins'}, inplace=True)\n",
    "ws_data.rename(columns={ws_data.columns[3]: 'NL Wins'}, inplace=True)"
   ]
  },
  {
   "cell_type": "code",
   "execution_count": 8,
   "metadata": {},
   "outputs": [],
   "source": [
    "# build dictionary of WS champions\n",
    "ws_winner_dict = {}\n",
    "\n",
    "for idx, row in ws_data.iterrows():\n",
    "    if row['AL Wins'] == '4':\n",
    "        ws_winner_dict[int(row['Year'])] = row['AL Winner']\n",
    "    if row['NL Wins'] == '4':\n",
    "        ws_winner_dict[int(row['Year'])] = row['NL Winner']"
   ]
  },
  {
   "cell_type": "code",
   "execution_count": 9,
   "metadata": {},
   "outputs": [],
   "source": [
    "def seasonal_data(year):\n",
    "    \"\"\" gets team batting and pitching data for a given season\n",
    "    \n",
    "    Args: \n",
    "        year (int): year of statistics\n",
    "        \n",
    "    Returns: \n",
    "        batting (df): dataframe of batting statistics\n",
    "        pitching (df): dataframe of pitching statistics\n",
    "    \"\"\"\n",
    "    url = f'https://www.baseball-reference.com/leagues/majors/{str(year)}.shtml'\n",
    "    batting = pd.read_html(url)[0]\n",
    "    # convert all values in table to float (except for team names)\n",
    "    batting = pd.concat([batting.iloc[:30, 0], batting.iloc[:30, 1:].astype(float)], axis=1)\n",
    "    \n",
    "    \"\"\" for whatever reason, the html for the pitching table is commented out.\n",
    "        so, we have to go in with bs4, find the tables in the comments, and then read that html. \"\"\"\n",
    "    \n",
    "    response = requests.get(url)\n",
    "    html_content = response.content\n",
    "\n",
    "    # use bs4 to parse the HTML, including comments\n",
    "    soup = BeautifulSoup(html_content, 'html.parser')\n",
    "\n",
    "    # find all HTML comments\n",
    "    comments = soup.find_all(string=lambda text: isinstance(text, Comment))\n",
    "\n",
    "    # extract tables from comments\n",
    "    tables = []\n",
    "    for comment in comments:\n",
    "        comment_soup = BeautifulSoup(str(comment), 'html.parser')\n",
    "        comment_tables = comment_soup.find_all('table')\n",
    "        tables.extend(comment_tables) # not append\n",
    "\n",
    "    pitching = pd.read_html(str(tables[1]))[0]\n",
    "    # convert all values in table to float (except for team names)\n",
    "    pitching = pd.concat([pitching.iloc[:30, 0], pitching.iloc[:30, 1:].astype(float)], axis=1)\n",
    "    \n",
    "    # clean tables\n",
    "    batting_filtered = pd.DataFrame()\n",
    "    for idx in batting.index:\n",
    "        try:\n",
    "            int(batting.loc[idx, '#Bat'])\n",
    "            batting_filtered = pd.concat([batting_filtered, batting.loc[idx, :]], axis=1)\n",
    "        except(ValueError):\n",
    "            pass\n",
    "        \n",
    "    pitching_filtered = pd.DataFrame()\n",
    "    for idx in pitching.index:\n",
    "        try:\n",
    "            int(pitching.loc[idx, '#P'])\n",
    "            pitching_filtered = pd.concat([pitching_filtered, pitching.loc[idx, :]], axis=1)\n",
    "        except(ValueError):\n",
    "            pass\n",
    "    \n",
    "    # don't get timed out\n",
    "    time.sleep(8.2)\n",
    "    return batting, pitching"
   ]
  },
  {
   "cell_type": "code",
   "execution_count": 14,
   "metadata": {
    "collapsed": true
   },
   "outputs": [
    {
     "name": "stderr",
     "output_type": "stream",
     "text": [
      "C:\\Users\\elija\\anaconda3\\lib\\site-packages\\bs4\\__init__.py:435: MarkupResemblesLocatorWarning: The input looks more like a filename than markup. You may want to open this file and pass the filehandle into Beautiful Soup.\n",
      "  warnings.warn(\n"
     ]
    }
   ],
   "source": [
    "b, p = seasonal_data(2023)"
   ]
  },
  {
   "cell_type": "code",
   "execution_count": 10,
   "metadata": {},
   "outputs": [],
   "source": [
    "# get data table of all MLB playoff history. then rename columns\n",
    "playoff_data = pd.read_html('https://www.baseball-reference.com/postseason/')[0]\n",
    "playoff_data.rename(columns={playoff_data.columns[1]: 'Series Outcome'}, inplace=True)\n",
    "playoff_data.rename(columns={playoff_data.columns[2]: 'Matchup'}, inplace=True)\n",
    "\n",
    "# get playoff success for all teams for the past 25 seasons and make into a df\n",
    "num_seasons = 25\n",
    "years = list(map(lambda x: 2023 - x, range(num_seasons)))\n",
    "year_success = []\n",
    "playoff_success_df = pd.DataFrame()\n",
    "\n",
    "for year in years:\n",
    "    temp_slice = playoff_data[playoff_data['Series'].str.contains(str(year), na=False)]\n",
    "    year_success = []\n",
    "    for team in team_abbrevs_dict.keys():\n",
    "        # check if team won WS\n",
    "        if ws_winner_dict[int(year)] == team:\n",
    "            year_success.append(5)\n",
    "        # if team didn't win WS, check if they made it to WS\n",
    "        elif team in temp_slice.iloc[0,2]:\n",
    "            year_success.append(4)\n",
    "        # if team didn't make it to WS, check if they made it to Championship Series (CS)\n",
    "        elif temp_slice.iloc[1:3, 2].str.count(team).sum() > 0:\n",
    "            year_success.append(3)\n",
    "        # if team didn't make it to CS, check if they made it to Division Series (DS)\n",
    "        elif temp_slice.iloc[3:7, 2].str.count(team).sum() > 0:\n",
    "            year_success.append(2)\n",
    "        # if team didn't make it to DS, check if they made it to Wild Card (WC) round\n",
    "        elif temp_slice.iloc[7:, 2].str.count(team).sum() > 0:\n",
    "            year_success.append(1)\n",
    "        # if team didn't make playoffs, append 0\n",
    "        else:\n",
    "            year_success.append(0)\n",
    "\n",
    "    year_series = pd.Series(year_success)\n",
    "    playoff_success_df = pd.concat([playoff_success_df, year_series.to_frame().T])\n",
    "\n",
    "# make df rows the seasons, make columns the teams/abbrevs (cells all contain 0, 1, 2, 3, 4, or 5)\n",
    "playoff_success_df.columns = list(team_abbrevs_dict.values())\n",
    "playoff_success_df.index = years"
   ]
  },
  {
   "cell_type": "code",
   "execution_count": 10,
   "metadata": {},
   "outputs": [
    {
     "name": "stderr",
     "output_type": "stream",
     "text": [
      "/Users/justinradist/opt/anaconda3/lib/python3.7/site-packages/bs4/__init__.py:439: MarkupResemblesLocatorWarning: The input looks more like a filename than markup. You may want to open this file and pass the filehandle into Beautiful Soup.\n",
      "  MarkupResemblesLocatorWarning\n"
     ]
    },
    {
     "ename": "KeyboardInterrupt",
     "evalue": "",
     "output_type": "error",
     "traceback": [
      "\u001b[0;31m---------------------------------------------------------------------------\u001b[0m",
      "\u001b[0;31mKeyboardInterrupt\u001b[0m                         Traceback (most recent call last)",
      "\u001b[0;32m<ipython-input-10-00ee9d8e1537>\u001b[0m in \u001b[0;36m<module>\u001b[0;34m\u001b[0m\n\u001b[1;32m      6\u001b[0m \u001b[0;32mfor\u001b[0m \u001b[0myear\u001b[0m \u001b[0;32min\u001b[0m \u001b[0myears\u001b[0m\u001b[0;34m:\u001b[0m\u001b[0;34m\u001b[0m\u001b[0;34m\u001b[0m\u001b[0m\n\u001b[1;32m      7\u001b[0m     \u001b[0;31m# get batting and pitching tables by team for current season\u001b[0m\u001b[0;34m\u001b[0m\u001b[0;34m\u001b[0m\u001b[0;34m\u001b[0m\u001b[0m\n\u001b[0;32m----> 8\u001b[0;31m     \u001b[0mb\u001b[0m\u001b[0;34m,\u001b[0m \u001b[0mp\u001b[0m \u001b[0;34m=\u001b[0m \u001b[0mseasonal_data\u001b[0m\u001b[0;34m(\u001b[0m\u001b[0myear\u001b[0m\u001b[0;34m)\u001b[0m\u001b[0;34m\u001b[0m\u001b[0;34m\u001b[0m\u001b[0m\n\u001b[0m\u001b[1;32m      9\u001b[0m     \u001b[0;31m# combine batting and pitching dfs for 1 season into 1 df\u001b[0m\u001b[0;34m\u001b[0m\u001b[0;34m\u001b[0m\u001b[0;34m\u001b[0m\u001b[0m\n\u001b[1;32m     10\u001b[0m     \u001b[0mcurrent_year_df\u001b[0m \u001b[0;34m=\u001b[0m \u001b[0mpd\u001b[0m\u001b[0;34m.\u001b[0m\u001b[0mconcat\u001b[0m\u001b[0;34m(\u001b[0m\u001b[0;34m[\u001b[0m\u001b[0mb\u001b[0m\u001b[0;34m,\u001b[0m \u001b[0mp\u001b[0m\u001b[0;34m]\u001b[0m\u001b[0;34m,\u001b[0m \u001b[0maxis\u001b[0m\u001b[0;34m=\u001b[0m\u001b[0;36m1\u001b[0m\u001b[0;34m,\u001b[0m \u001b[0mignore_index\u001b[0m\u001b[0;34m=\u001b[0m\u001b[0;32mTrue\u001b[0m\u001b[0;34m)\u001b[0m\u001b[0;34m\u001b[0m\u001b[0;34m\u001b[0m\u001b[0m\n",
      "\u001b[0;32m<ipython-input-8-73f9bff44814>\u001b[0m in \u001b[0;36mseasonal_data\u001b[0;34m(year)\u001b[0m\n\u001b[1;32m     55\u001b[0m \u001b[0;34m\u001b[0m\u001b[0m\n\u001b[1;32m     56\u001b[0m     \u001b[0;31m# don't get timed out\u001b[0m\u001b[0;34m\u001b[0m\u001b[0;34m\u001b[0m\u001b[0;34m\u001b[0m\u001b[0m\n\u001b[0;32m---> 57\u001b[0;31m     \u001b[0mtime\u001b[0m\u001b[0;34m.\u001b[0m\u001b[0msleep\u001b[0m\u001b[0;34m(\u001b[0m\u001b[0;36m8.2\u001b[0m\u001b[0;34m)\u001b[0m\u001b[0;34m\u001b[0m\u001b[0;34m\u001b[0m\u001b[0m\n\u001b[0m\u001b[1;32m     58\u001b[0m     \u001b[0;32mreturn\u001b[0m \u001b[0mbatting\u001b[0m\u001b[0;34m,\u001b[0m \u001b[0mpitching\u001b[0m\u001b[0;34m\u001b[0m\u001b[0;34m\u001b[0m\u001b[0m\n",
      "\u001b[0;31mKeyboardInterrupt\u001b[0m: "
     ]
    }
   ],
   "source": [
    "# master stat table with batting, pitching, and playoff success data for every team each of last 25 seasons\n",
    "num_seasons = 25\n",
    "years = list(map(lambda x: 2023 - x, range(num_seasons)))\n",
    "master_df = pd.DataFrame()\n",
    "\n",
    "for year in years:\n",
    "    # get batting and pitching tables by team for current season\n",
    "    b, p = seasonal_data(year)\n",
    "    # combine batting and pitching dfs for 1 season into 1 df\n",
    "    current_year_df = pd.concat([b, p], axis=1, ignore_index=True)\n",
    "    current_year_list = pd.Series(map(lambda x: year, range(len(b))), name='Season')\n",
    "    # add column identifying what season the current data is from\n",
    "    current_year_df = pd.concat([current_year_list.to_frame(), current_year_df], axis=1)\n",
    "    # add column of teams' playoff success\n",
    "    playoff_col = playoff_success_df.loc[year].reset_index(drop=True)\n",
    "    playoff_col = pd.Series(playoff_col, name='Playoff Round')\n",
    "    current_year_df = pd.concat([current_year_df, playoff_col.to_frame()], axis=1)\n",
    "    # add current year's df to master df\n",
    "    master_df = pd.concat([master_df, current_year_df])\n",
    "\n",
    "# save master_df to a CSV file. Do this to avoid timeout requests and for column renaming purposes\n",
    "master_df.to_csv('master_df.csv', index=False)"
   ]
  },
  {
   "cell_type": "code",
   "execution_count": 11,
   "metadata": {
    "scrolled": true
   },
   "outputs": [],
   "source": [
    "# read back in CSV\n",
    "master_df = pd.read_csv('master_df.csv')"
   ]
  },
  {
   "cell_type": "code",
   "execution_count": 15,
   "metadata": {},
   "outputs": [],
   "source": [
    "pass\n",
    "# create list of columns names so batting and pitching columns with same names are distinguished (i.e., H)\n",
    "cols = ['Season']\n",
    "for col in b.columns:\n",
    "    cols.append(col)\n",
    "pitch_col_names = ['Tm_p', '#P', 'PAge', 'RA/G', 'W', 'L', 'W-L%', 'ERA', 'G_p', 'GS', 'GF', 'CG', 'tSho', 'cSho', 'SV', 'IP',\n",
    " 'H_p', 'R_p', 'ER', 'HR_p', 'BB_p', 'IBB_p', 'SO_p', 'HBP_p', 'BK', 'WP', 'BF', 'ERA+', 'FIP', 'WHIP', 'H9',\n",
    " 'HR9', 'BB9', 'SO9', 'SO/W', 'LOB_p']\n",
    "for col in pitch_col_names:\n",
    "    cols.append(col)\n",
    "cols.append('Playoff Round')\n",
    "\n",
    "# rename columns\n",
    "master_df.rename(columns=dict(zip(master_df.columns, cols)), inplace=True)"
   ]
  },
  {
   "cell_type": "code",
   "execution_count": 16,
   "metadata": {},
   "outputs": [],
   "source": [
    "# remove uninformative stats from df \n",
    "#master_df.drop(['#Bat', 'G', 'PA', 'AB', 'TB', '#P', 'Tm.1', 'G.1', 'BF'], axis=1, inplace=True)\n",
    "master_df.drop(['#Bat', 'G', 'PA', 'AB', 'TB', '#P', 'Tm_p', 'G_p', 'BF'], axis=1, inplace=True)\n",
    "\n",
    "# remove informative but excess / repetitive stats from df\n",
    "master_df.drop(['R/G', 'RA/G', 'W-L%', 'H9', 'HR9', 'BB9', 'SO9', 'SO/W'], axis=1, inplace=True)"
   ]
  },
  {
   "cell_type": "code",
   "execution_count": 17,
   "metadata": {},
   "outputs": [],
   "source": [
    "# turn all values in master_df into ranks on a per season basis\n",
    "low_is_better_stats = ['BatAge', 'CS', 'SO', 'GDP', 'LOB', 'PAge', 'RA/G', 'L', 'ERA', 'H.1', 'R.1', 'ER', 'HR.1',\n",
    "                      'BB.1', 'IBB.1', 'HBP.1', 'BK', 'WP', 'WHIP', 'H9', 'HR9', 'BB9']\n",
    "#low_is_better_stats = ['BatAge', 'CS', 'SO', 'GDP', 'LOB', 'PAge', 'RA/G', 'L', 'ERA', 'H_p', 'R_p', 'ER', 'HR_p',\n",
    "                      #'BB_p', 'IBB_p', 'HBP_p', 'BK', 'WP', 'WHIP', 'H9', 'HR9', 'BB9']\n",
    "\n",
    "#master_df_ranked = master_df_read[['Season', 'Tm']]\n",
    "master_df_ranked = master_df[['Season', 'Tm']]\n",
    "for col in list(master_df.columns)[2:-1]:\n",
    "    col_rank = []\n",
    "    for season in range(len(master_df['Season'].unique())):\n",
    "        seasonal_df = master_df.iloc[season*30:season*30+30]\n",
    "        if col in low_is_better_stats:\n",
    "            temp_ranks = seasonal_df[col].rank(method='min')\n",
    "        else:\n",
    "            temp_ranks = seasonal_df[col].rank(ascending=False, method='min')\n",
    "        for temp_rank in temp_ranks:\n",
    "            col_rank.append(temp_rank)\n",
    "    col_rank_series = pd.Series(col_rank, name=col).reset_index(drop=True)\n",
    "    master_df_ranked = pd.concat([master_df_ranked, col_rank_series.to_frame()], axis=1)\n",
    "master_df_ranked = pd.concat([master_df_ranked, master_df['Playoff Round'].to_frame()], axis=1)"
   ]
  },
  {
   "cell_type": "code",
   "execution_count": 18,
   "metadata": {},
   "outputs": [],
   "source": [
    "# filter dfs for only rows of teams/seasons that made playoffs\n",
    "master_df_playoffs = master_df[master_df['Playoff Round'] != 0]\n",
    "master_df_ranked_playoffs = master_df_ranked[master_df_ranked['Playoff Round'] != 0]"
   ]
  },
  {
   "cell_type": "markdown",
   "metadata": {},
   "source": [
    "## Preliminary Visualizations:\n",
    "This visualization plots how many World Series winners led the league in each stat during the regular season of the year they won the World Series."
   ]
  },
  {
   "cell_type": "code",
   "execution_count": 16,
   "metadata": {},
   "outputs": [],
   "source": [
    "# CURRENTLY ONLY USED FOR ORIGINAL DATA ANALYSIS PLAN VISUALIZATION\n",
    "def ws_winner_leading_data(team, year, num_teams=1):\n",
    "    \"\"\" Get regular season stat leading data from a World Series winner\n",
    "        \n",
    "    Args:\n",
    "        team (string): the name of the team\n",
    "        year (int or string): the year that the team won the World Series\n",
    "        num_teams (int): the lowest rank in the MLB a World Series winner can be in a stat to be considered a\n",
    "        \"leader\" in that stat category (e.g., if num_teams is 3, then a World Series winner must have had one of\n",
    "        the 3 highest stat values of any team in the MLB that season to be considered a \"leader\")\n",
    "        \n",
    "    Returns:\n",
    "        None\n",
    "    \"\"\"\n",
    "    # get table of aggregated batting data by team for a single season\n",
    "    batting_table, _ = seasonal_data(year)\n",
    "    time.sleep(4)\n",
    "    batting_table.drop('G', axis=1, inplace=True)\n",
    "    \n",
    "    # loop through all stats in table\n",
    "    for stat in list(batting_table.columns[3:]):\n",
    "        # for each stat, convert its column of values to a list and sort in descending order\n",
    "        stat_list = list(batting_table[stat])\n",
    "        stat_list.sort(reverse=True)\n",
    "        # find the cutoff stat value\n",
    "        cutoff = stat_list[num_teams - 1]\n",
    "        \n",
    "        # if WS winner met/exceeded cutoff stat value, add 1 to the dict count of the current stat\n",
    "        if (batting_table[batting_table[stat] >= cutoff]['Tm'] == team).any():\n",
    "            if stat in stat_counts_dict.keys():\n",
    "                stat_counts_dict[stat] += 1\n",
    "            else:\n",
    "                stat_counts_dict[stat] = 1\n",
    "    return None"
   ]
  },
  {
   "cell_type": "code",
   "execution_count": 17,
   "metadata": {},
   "outputs": [
    {
     "ename": "KeyboardInterrupt",
     "evalue": "",
     "output_type": "error",
     "traceback": [
      "\u001b[0;31m---------------------------------------------------------------------------\u001b[0m",
      "\u001b[0;31mKeyboardInterrupt\u001b[0m                         Traceback (most recent call last)",
      "\u001b[0;32m<ipython-input-17-68016f517201>\u001b[0m in \u001b[0;36m<module>\u001b[0;34m\u001b[0m\n\u001b[1;32m      6\u001b[0m     \u001b[0;32mif\u001b[0m \u001b[0myear_count\u001b[0m \u001b[0;34m>\u001b[0m \u001b[0;36m25\u001b[0m\u001b[0;34m:\u001b[0m\u001b[0;34m\u001b[0m\u001b[0;34m\u001b[0m\u001b[0m\n\u001b[1;32m      7\u001b[0m         \u001b[0;32mbreak\u001b[0m\u001b[0;34m\u001b[0m\u001b[0;34m\u001b[0m\u001b[0m\n\u001b[0;32m----> 8\u001b[0;31m     \u001b[0mws_winner_leading_data\u001b[0m\u001b[0;34m(\u001b[0m\u001b[0mteam\u001b[0m\u001b[0;34m,\u001b[0m \u001b[0myear\u001b[0m\u001b[0;34m,\u001b[0m \u001b[0mnum_teams\u001b[0m\u001b[0;34m=\u001b[0m\u001b[0;36m3\u001b[0m\u001b[0;34m)\u001b[0m\u001b[0;34m\u001b[0m\u001b[0;34m\u001b[0m\u001b[0m\n\u001b[0m\u001b[1;32m      9\u001b[0m     \u001b[0myear_count\u001b[0m \u001b[0;34m+=\u001b[0m \u001b[0;36m1\u001b[0m\u001b[0;34m\u001b[0m\u001b[0;34m\u001b[0m\u001b[0m\n\u001b[1;32m     10\u001b[0m \u001b[0;34m\u001b[0m\u001b[0m\n",
      "\u001b[0;32m<ipython-input-16-c97316b89f9f>\u001b[0m in \u001b[0;36mws_winner_leading_data\u001b[0;34m(team, year, num_teams)\u001b[0m\n\u001b[1;32m     14\u001b[0m     \"\"\"\n\u001b[1;32m     15\u001b[0m     \u001b[0;31m# get table of aggregated batting data by team for a single season\u001b[0m\u001b[0;34m\u001b[0m\u001b[0;34m\u001b[0m\u001b[0;34m\u001b[0m\u001b[0m\n\u001b[0;32m---> 16\u001b[0;31m     \u001b[0mbatting_table\u001b[0m\u001b[0;34m,\u001b[0m \u001b[0m_\u001b[0m \u001b[0;34m=\u001b[0m \u001b[0mseasonal_data\u001b[0m\u001b[0;34m(\u001b[0m\u001b[0myear\u001b[0m\u001b[0;34m)\u001b[0m\u001b[0;34m\u001b[0m\u001b[0;34m\u001b[0m\u001b[0m\n\u001b[0m\u001b[1;32m     17\u001b[0m     \u001b[0mtime\u001b[0m\u001b[0;34m.\u001b[0m\u001b[0msleep\u001b[0m\u001b[0;34m(\u001b[0m\u001b[0;36m4\u001b[0m\u001b[0;34m)\u001b[0m\u001b[0;34m\u001b[0m\u001b[0;34m\u001b[0m\u001b[0m\n\u001b[1;32m     18\u001b[0m     \u001b[0mbatting_table\u001b[0m\u001b[0;34m.\u001b[0m\u001b[0mdrop\u001b[0m\u001b[0;34m(\u001b[0m\u001b[0;34m'G'\u001b[0m\u001b[0;34m,\u001b[0m \u001b[0maxis\u001b[0m\u001b[0;34m=\u001b[0m\u001b[0;36m1\u001b[0m\u001b[0;34m,\u001b[0m \u001b[0minplace\u001b[0m\u001b[0;34m=\u001b[0m\u001b[0;32mTrue\u001b[0m\u001b[0;34m)\u001b[0m\u001b[0;34m\u001b[0m\u001b[0;34m\u001b[0m\u001b[0m\n",
      "\u001b[0;32m<ipython-input-8-73f9bff44814>\u001b[0m in \u001b[0;36mseasonal_data\u001b[0;34m(year)\u001b[0m\n\u001b[1;32m     55\u001b[0m \u001b[0;34m\u001b[0m\u001b[0m\n\u001b[1;32m     56\u001b[0m     \u001b[0;31m# don't get timed out\u001b[0m\u001b[0;34m\u001b[0m\u001b[0;34m\u001b[0m\u001b[0;34m\u001b[0m\u001b[0m\n\u001b[0;32m---> 57\u001b[0;31m     \u001b[0mtime\u001b[0m\u001b[0;34m.\u001b[0m\u001b[0msleep\u001b[0m\u001b[0;34m(\u001b[0m\u001b[0;36m8.2\u001b[0m\u001b[0;34m)\u001b[0m\u001b[0;34m\u001b[0m\u001b[0;34m\u001b[0m\u001b[0m\n\u001b[0m\u001b[1;32m     58\u001b[0m     \u001b[0;32mreturn\u001b[0m \u001b[0mbatting\u001b[0m\u001b[0;34m,\u001b[0m \u001b[0mpitching\u001b[0m\u001b[0;34m\u001b[0m\u001b[0;34m\u001b[0m\u001b[0m\n",
      "\u001b[0;31mKeyboardInterrupt\u001b[0m: "
     ]
    }
   ],
   "source": [
    "# CURRENTLY ONLY USED FOR ORIGINAL DATA ANALYSIS PLAN VISUALIZATION\n",
    "# dictionary of counts of last 25 WS winners that were top 3 in the MLB in each batting stat\n",
    "stat_counts_dict = {}\n",
    "year_count = 0\n",
    "for year, team in ws_winner_dict.items():\n",
    "    if year_count > 25:\n",
    "        break\n",
    "    ws_winner_leading_data(team, year, num_teams=3)\n",
    "    year_count += 1\n",
    "\n",
    "stat_counts_dict"
   ]
  },
  {
   "cell_type": "code",
   "execution_count": null,
   "metadata": {},
   "outputs": [],
   "source": [
    "# CURRENTLY ONLY USED FOR ORIGINAL DATA ANALYSIS PLAN VISUALIZATION\n",
    "# create bar chart of stats and how often World Series winners led the league in them\n",
    "plt.bar(stat_counts_dict.keys(), stat_counts_dict.values())\n",
    "plt.yticks(list(range(15)))\n",
    "\n",
    "plt.xlabel('Team Batting Data')\n",
    "plt.ylabel('Number World Series Winners that Led League')\n",
    "plt.title('Number of World Series Winners Over the Past 25 Seasons that led the MLB in the Various Batting Stats')\n",
    "plt.gcf().set_size_inches(13, 6)\n",
    "plt.show()"
   ]
  },
  {
   "cell_type": "markdown",
   "metadata": {},
   "source": [
    "As you can see in the graph above, for every batting stat, at most 3 of the last 10 World Series winners led the league in it the year they won. This is actually a greater percentage than the number of teams that led the MLB in regular season wins the year they won the World Series, which is somewhat promising for our project. One next step could be to expand from only counting World Series winners that led the entire MLB in a stat to counting World Series winners that were one of the top 3 or 5 teams in the MLB for a stat that season. This is likely to increase the counts substantially while still providing relevant info, since top 5 out of 30 teams in still in the highest quintile.\n",
    "\n",
    "The visualization below displays scatter plots with 2 sets of data points on each plot: 1 color for the mean values by season, a different color for the set of values for World Series winners by season. We are looking to see if World Series winners consistently had well-above average values for any stat, which would indicate there might be some relationship between that stat and playoff success."
   ]
  },
  {
   "cell_type": "code",
   "execution_count": 18,
   "metadata": {},
   "outputs": [
    {
     "ename": "KeyboardInterrupt",
     "evalue": "",
     "output_type": "error",
     "traceback": [
      "\u001b[0;31m---------------------------------------------------------------------------\u001b[0m",
      "\u001b[0;31mKeyboardInterrupt\u001b[0m                         Traceback (most recent call last)",
      "\u001b[0;32m<ipython-input-18-b3a37047d748>\u001b[0m in \u001b[0;36m<module>\u001b[0;34m\u001b[0m\n\u001b[1;32m     11\u001b[0m     \u001b[0mseasons\u001b[0m\u001b[0;34m.\u001b[0m\u001b[0mappend\u001b[0m\u001b[0;34m(\u001b[0m\u001b[0mseason\u001b[0m\u001b[0;34m)\u001b[0m\u001b[0;34m\u001b[0m\u001b[0;34m\u001b[0m\u001b[0m\n\u001b[1;32m     12\u001b[0m     \u001b[0;31m# pull df for current loop's season, set team name as the index\u001b[0m\u001b[0;34m\u001b[0m\u001b[0;34m\u001b[0m\u001b[0;34m\u001b[0m\u001b[0m\n\u001b[0;32m---> 13\u001b[0;31m     \u001b[0mdf_season_batting\u001b[0m \u001b[0;34m=\u001b[0m \u001b[0mget_season_batting_df\u001b[0m\u001b[0;34m(\u001b[0m\u001b[0mseason\u001b[0m\u001b[0;34m)\u001b[0m\u001b[0;34m.\u001b[0m\u001b[0mset_index\u001b[0m\u001b[0;34m(\u001b[0m\u001b[0;34m'Tm'\u001b[0m\u001b[0;34m)\u001b[0m\u001b[0;34m\u001b[0m\u001b[0;34m\u001b[0m\u001b[0m\n\u001b[0m\u001b[1;32m     14\u001b[0m     \u001b[0mtime\u001b[0m\u001b[0;34m.\u001b[0m\u001b[0msleep\u001b[0m\u001b[0;34m(\u001b[0m\u001b[0;36m4\u001b[0m\u001b[0;34m)\u001b[0m\u001b[0;34m\u001b[0m\u001b[0;34m\u001b[0m\u001b[0m\n\u001b[1;32m     15\u001b[0m     \u001b[0;31m# loop through all the stats in the dictionary initialized above\u001b[0m\u001b[0;34m\u001b[0m\u001b[0;34m\u001b[0m\u001b[0;34m\u001b[0m\u001b[0m\n",
      "\u001b[0;32m<ipython-input-4-de89f607db4a>\u001b[0m in \u001b[0;36mget_season_batting_df\u001b[0;34m(season)\u001b[0m\n\u001b[1;32m     11\u001b[0m \u001b[0;34m\u001b[0m\u001b[0m\n\u001b[1;32m     12\u001b[0m     \u001b[0mdf_season_batting\u001b[0m \u001b[0;34m=\u001b[0m \u001b[0mpd\u001b[0m\u001b[0;34m.\u001b[0m\u001b[0mread_html\u001b[0m\u001b[0;34m(\u001b[0m\u001b[0murl\u001b[0m\u001b[0;34m)\u001b[0m\u001b[0;34m[\u001b[0m\u001b[0;36m0\u001b[0m\u001b[0;34m]\u001b[0m\u001b[0;34m\u001b[0m\u001b[0;34m\u001b[0m\u001b[0m\n\u001b[0;32m---> 13\u001b[0;31m     \u001b[0mtime\u001b[0m\u001b[0;34m.\u001b[0m\u001b[0msleep\u001b[0m\u001b[0;34m(\u001b[0m\u001b[0;36m4\u001b[0m\u001b[0;34m)\u001b[0m\u001b[0;34m\u001b[0m\u001b[0;34m\u001b[0m\u001b[0m\n\u001b[0m\u001b[1;32m     14\u001b[0m \u001b[0;34m\u001b[0m\u001b[0m\n\u001b[1;32m     15\u001b[0m     \u001b[0;32mreturn\u001b[0m \u001b[0mdf_season_batting\u001b[0m\u001b[0;34m\u001b[0m\u001b[0;34m\u001b[0m\u001b[0m\n",
      "\u001b[0;31mKeyboardInterrupt\u001b[0m: "
     ]
    }
   ],
   "source": [
    "seasons = []\n",
    "batting_stats = {'H': [],\n",
    "                'HR': [],\n",
    "                'RBI': [],\n",
    "                'BA': [],\n",
    "                'OPS': []}\n",
    "\n",
    "# loop backwards through the past n seasons\n",
    "for i in range(10):\n",
    "    season = 2023 - i\n",
    "    seasons.append(season)\n",
    "    # pull df for current loop's season, set team name as the index\n",
    "    df_season_batting = get_season_batting_df(season).set_index('Tm')\n",
    "    time.sleep(4)\n",
    "    # loop through all the stats in the dictionary initialized above\n",
    "    for stat in list(batting_stats.keys()):\n",
    "        # get the average team value for the current stat in the current season\n",
    "        avg_stat_val = df_season_batting[stat][:30].astype(float).mean()\n",
    "        \n",
    "        # get the value for the current stat for the team that won the World Series in the current loop's season\n",
    "        ws_winner = ws_winner_dict[season]\n",
    "        ws_winner_stat_val = float(df_season_batting.loc[ws_winner][stat])\n",
    "        \n",
    "        # create 2-item list of mean stat value and World Series winner stat value for the current season\n",
    "        temp_stat_list = [round(avg_stat_val, 3), round(ws_winner_stat_val, 3)]\n",
    "        # add the 2-item list to list of the respective stat in the batting stats dictionary\n",
    "        batting_stats[stat].append(temp_stat_list)"
   ]
  },
  {
   "cell_type": "code",
   "execution_count": null,
   "metadata": {},
   "outputs": [],
   "source": [
    "# plot mean team and WS winner values for each stat by season\n",
    "sns.set_style('darkgrid')\n",
    "for stat, values in batting_stats.items():\n",
    "    temp_array = np.array(values)\n",
    "    plt.scatter(seasons, temp_array[:, 0], label='Mean Value')\n",
    "    plt.scatter(seasons, temp_array[:, 1], label='WS Winner Value')\n",
    "    plt.xticks(seasons)\n",
    "    plt.legend(bbox_to_anchor=(1.4, 1))\n",
    "    plt.xlabel('Season')\n",
    "    plt.ylabel(stat.capitalize())\n",
    "    plt.title(f'Mean and WS Winner {stat.capitalize()} Values by Season')\n",
    "    plt.show()"
   ]
  },
  {
   "cell_type": "markdown",
   "metadata": {},
   "source": [
    "Almost all World Series winners have been above average in each of the above 5 batting statistics over the last 10 seasons. This supports our conclusions from the first visualization, which is that World Series winners perform well in these categories and that they may be better at predicting playoff success than regular season wins. Another next step will be to look at pitching stats in this same manner."
   ]
  },
  {
   "cell_type": "markdown",
   "metadata": {},
   "source": [
    "## Methods"
   ]
  },
  {
   "cell_type": "markdown",
   "metadata": {},
   "source": [
    "Initially, we explored running regressions on our data to predict stats and playoff performance. However, playoff performance is a qualitative data point (i.e., \"won World Series,\" \"lost in NLCS,\" etc.), and while we quantified it (e.g., made playoffs = 1, won Wild Card round = 2, ..., won World Series = 5), it's still a discrete variable, so we decided to use classification models, specifically random forests and decision trees. We began by using a random forest to determine which batting and pitching statistics had the greatest impact on playoff performance. Then, we ran hundreds of decision trees to actually make these playoff predictions and determine model accuracies. The goal was to run decision trees for predictor variables individually, in small groups, and on all relevant statistics together. \n",
    "\n",
    "Assumptions and Pitfalls:\n",
    "- Both decision trees and random forest classifiers assume all predictor features are independent, but many baseball stats are not. We tried to maximize level of independence between the variables by removing stats that were repetitive or based off of others, such as home runs per 9 innings (HR9) which is dependent on home runs (HR) and runs per game (R/G) which is dependent on runs (R). However, we could not guarantee complete independence entirely since many stats are important but not independent, such as hits (H) and home runs, or slugging percentage (SLG) and on base plus slugging (OPS). This contributes to less confidence in our models.\n",
    "- Another potential pitfall of random forest classifiers, although we were able to avoid it, is absolute values of mean reductions in Gini are partly dependent on the number of variables passed into the model, so a model with fewer predictor variables may result in each variable appearing to have a larger impact on the variable being predicted. We avoided this by only running random forests on all relevant stats.\n",
    "- We don't use any built-in cross validation function for our decision tree model. Rather, we slice the data to exclude the rows of data for the season we want to predict and use that as the test data. All the other seasons are the training data, effectively creating a test size of 0.04 for 25 seasons or 0.10 for 10 seasons. Of note: for any season that isn't the most recent MLB season (currently 2023), the playoff predictions are partly based off of data from future seasons, meaning not only historical data is used in our predictions. This is not necessarily a pitfall but rather something to keep in mind.\n",
    "- 25 years is a long time span, and statistics considered important 25 years ago are not considered as important now and vice versa. For instance, OPS was a niche statistic in the 2000s, but now is a key stat in evaluating team and individual player output. Neither model accounts for changing feature importances with time or seasons, assuming these are constant, which could detract from model confidence."
   ]
  },
  {
   "cell_type": "markdown",
   "metadata": {},
   "source": [
    "## Machine Learning and Results"
   ]
  },
  {
   "cell_type": "code",
   "execution_count": 19,
   "metadata": {},
   "outputs": [],
   "source": [
    "def rf_classifier(df, x_feat_list, y=None, max_depth=4, n_splits=6, cross_val=False):\n",
    "    \"\"\" build a Random Forest Classifier model\n",
    "    \n",
    "    Args: \n",
    "        df (pd.DataFrame): dataframe to run\n",
    "        x_feat_list (list): list of columns in df being used to predict the y feature\n",
    "        y (str): column in df to predict\n",
    "        max_depth (int): maximum depth each decision tree in the random forest should go\n",
    "        cross_val (bool): if True, model should be cross validated\n",
    "        n_splits (int): if model is meant to be cross validated, this\n",
    "        is how many times to split the data when cross validating\n",
    "    Returns:\n",
    "        rf_class (RandomForestClassifier): a random forest classifier model\n",
    "    \"\"\"\n",
    "    # default x_feat_list, features to predict stats upon\n",
    "    if x_feat_list is None:\n",
    "        x_feat_list = ['R/G', 'BA', 'OPS', 'ERA', 'WHIP', 'SO9']\n",
    "    \n",
    "    # default y, feature to estimate\n",
    "    if y is None:\n",
    "        y = 'Playoff Round'\n",
    "\n",
    "    # get columns of predictor stats (x), and get column of feature being predicted (y)\n",
    "    x = df[x_feat_list].values\n",
    "    y_true = df[y].values\n",
    "\n",
    "    # initialize a rf_classifier with a max depth of default 4\n",
    "    rf_class = RandomForestClassifier(n_estimators=100, max_depth=max_depth)\n",
    "\n",
    "    # run non-cross validated model\n",
    "    if cross_val == False:\n",
    "        rf_class.fit(x, y_true)\n",
    "        # predict y (from classifier)\n",
    "        y_pred = rf_class.predict(x)\n",
    "        return rf_class\n",
    "    \n",
    "    # construction of kfold object with n folds\n",
    "    kfold = KFold(n_splits=n_splits)\n",
    "\n",
    "    # allocate an empty array to store predictions in\n",
    "    y_pred = copy(y_true)\n",
    "\n",
    "    for train_idx, test_idx in kfold.split(x, y_true):\n",
    "        # build arrays which correspond to x, y train /test\n",
    "        x_test = x[test_idx, :]\n",
    "        x_train = x[train_idx, :]\n",
    "        y_true_train = y_true[train_idx]\n",
    "\n",
    "        # modify rf_classifier internal state to remember all training samples\n",
    "        rf_class.fit(x_train, y_true_train)\n",
    "\n",
    "        # estimate each team's playoff outcome (round they make it to)\n",
    "        y_pred[test_idx] = rf_class.predict(x_test)\n",
    "    \n",
    "    return rf_class"
   ]
  },
  {
   "cell_type": "code",
   "execution_count": 20,
   "metadata": {},
   "outputs": [],
   "source": [
    "def plot_feat_import(feat_list, feat_import, show=True, sort=True, limit=None):\n",
    "    \"\"\" plots feature importances in a horizontal bar chart\n",
    "    \n",
    "    Args:\n",
    "        feat_list (list): str names of features\n",
    "        feat_import (np.array): feature importances (mean gini reduce)\n",
    "        show (bool): if True, shows the bar graph of important features\n",
    "        sort (bool): if True, sorts features in decreasing importance\n",
    "            from top to bottom of plot\n",
    "        limit (int): if passed, limits the number of features shown\n",
    "            to this value\n",
    "    \n",
    "    Returns:\n",
    "        feat_list (list): the n number of stats with the highest Gini values, where n=limit\n",
    "    \"\"\"\n",
    "    if sort:\n",
    "        # sort features in decreasing importance\n",
    "        idx = np.argsort(feat_import).astype(int)\n",
    "        feat_list = [feat_list[_idx] for _idx in idx]\n",
    "        feat_import = feat_import[idx]\n",
    "        #print(feat_import)\n",
    "        #print(idx)\n",
    "        \n",
    "    if limit is not None:\n",
    "        # limit to the first limit feature\n",
    "        feat_list = feat_list[-limit:]\n",
    "        feat_import = feat_import[-limit:]\n",
    "    \n",
    "    if show == True:\n",
    "        # plot and label feature importance\n",
    "        plt.barh(feat_list, feat_import)\n",
    "        plt.gcf().set_size_inches(5, len(feat_list) / 2)\n",
    "        plt.xlabel('Feature importance\\n(Mean decrease in Gini across all Decision Trees)')\n",
    "        plt.show()\n",
    "    return feat_list"
   ]
  },
  {
   "cell_type": "code",
   "execution_count": null,
   "metadata": {},
   "outputs": [],
   "source": [
    "# run rf classifier on ranked df and ranked playoff teams-only df\n",
    "x_feat_list = list(master_df_ranked.columns)[2:-1]\n",
    "rf_clf_ranked = rf_classifier(master_df_ranked, x_feat_list, y='Playoff Round', cross_val=True)\n",
    "rf_clf_ranked_playoffs = rf_classifier(master_df_ranked_playoffs, x_feat_list, y='Playoff Round', cross_val=True)\n",
    "\n",
    "# show rf classifier results\n",
    "ranked_plot = plot_feat_import(x_feat_list, rf_clf_ranked.feature_importances_, limit=5)\n",
    "ranked_playoffs_plot = plot_feat_import(x_feat_list, rf_clf_ranked_playoffs.feature_importances_, limit=5)"
   ]
  },
  {
   "cell_type": "code",
   "execution_count": null,
   "metadata": {},
   "outputs": [],
   "source": [
    "# build dictionary of stats and how many times they had high Gini scores in rf classifier iterations\n",
    "feat_import_counts = {}\n",
    "for i in range(50):\n",
    "    rf_clf_ranked_playoffs = rf_classifier(master_df_ranked_playoffs,\n",
    "                                           x_feat_list,\n",
    "                                           cross_val=True)\n",
    "    temp_import_feats = plot_feat_import(x_feat_list,\n",
    "                                         rf_clf_ranked_playoffs.feature_importances_,\n",
    "                                         show=False,\n",
    "                                         limit=5)\n",
    "    for feat in temp_import_feats:\n",
    "        if feat in feat_import_counts.keys():\n",
    "            feat_import_counts[feat] += 1\n",
    "        else:\n",
    "            feat_import_counts[feat] = 1"
   ]
  },
  {
   "cell_type": "code",
   "execution_count": null,
   "metadata": {},
   "outputs": [],
   "source": [
    "# plot results of/data from dictionary created in cell above\n",
    "plt.bar(feat_import_counts.keys(), feat_import_counts.values())\n",
    "plt.yticks(list(range(0, 55, 5)))\n",
    "\n",
    "plt.xlabel('Team Batting and Pitching Stats', fontsize=16)\n",
    "plt.ylabel('# Times Feature Top 10 Gini Score in RF Classifier', fontsize=16)\n",
    "plt.title('# of Times Each Stat had a Top 5 Gini Score in a RF Classifier to Predict Playoff Success',\n",
    "          fontsize=20)\n",
    "plt.gcf().set_size_inches(22, 8)\n",
    "plt.show()"
   ]
  },
  {
   "cell_type": "code",
   "execution_count": 21,
   "metadata": {},
   "outputs": [],
   "source": [
    "def get_residuals(y_pred, y_true):\n",
    "    \"\"\" returns array with residuals for each team \"\"\"\n",
    "    y_pred = np.array(y_pred)\n",
    "    y_true = np.array(y_true)\n",
    "    res = y_true - y_pred\n",
    "    \n",
    "    return res"
   ]
  },
  {
   "cell_type": "code",
   "execution_count": 22,
   "metadata": {},
   "outputs": [],
   "source": [
    "def train_dec_tree(df, year, feature_list, return_residuals=False):\n",
    "    \"\"\" trains a decision tree to predict teams' Playoff Rounds using batting and/or pitching stats\n",
    "    \n",
    "    Args:\n",
    "        df (pd.DataFrame): df to train decision tree on\n",
    "        year (int): season to make predictions for\n",
    "        feature_list (list): stats to train decision tree with to predict Playoff Round\n",
    "    \n",
    "    Returns:\n",
    "        predicted_playoff_round (pd.DataFrame): contains playoff round predictions and actual playoff results\n",
    "        accuracy (float): the decision tree's accuracy score\n",
    "    \"\"\"\n",
    "    # filter data for specified year\n",
    "    train_data = df[(df['Season'] != year)]\n",
    "    test_data = df[(df['Season'] == year)]\n",
    "\n",
    "    # split training data into train and test sets\n",
    "    x_train = train_data[feature_list]\n",
    "    x_test = test_data[feature_list]\n",
    "    y_train = train_data['Playoff Round']\n",
    "    y_test = test_data['Playoff Round']\n",
    "\n",
    "    # initialize decision tree classifier\n",
    "    clf = DecisionTreeClassifier()\n",
    "\n",
    "    # train classifier on training data\n",
    "    clf.fit(x_train, y_train)\n",
    "\n",
    "    # make predictions on test data\n",
    "    y_pred = clf.predict(x_test)\n",
    "\n",
    "    # get list of all teams\n",
    "    teams = df[df['Season'] == year]['Tm'].reset_index(drop=True)\n",
    "    team_series = pd.Series(teams)\n",
    "\n",
    "    # build df of playoff predictions (only include teams that actually made the playoffs)\n",
    "    playoff_preds = pd.DataFrame()\n",
    "    preds_series = pd.Series(y_pred, name='Predicted Playoff Round').reset_index(drop=True)\n",
    "    actual_series = pd.Series(df[df['Season'] == year]['Playoff Round'],\n",
    "                              name='Actual Playoff Round').reset_index(drop=True)\n",
    "    playoff_preds = pd.concat([team_series.to_frame(), actual_series.to_frame(), preds_series.to_frame()], axis=1)\n",
    "    \n",
    "    # compute model accuracy on test set\n",
    "    accuracy = accuracy_score(y_test, y_pred)\n",
    "    \n",
    "    if return_residuals:\n",
    "        res = get_residuals(y_test, y_pred)\n",
    "        return playoff_preds, accuracy, res\n",
    "\n",
    "    return playoff_preds, accuracy"
   ]
  },
  {
   "cell_type": "code",
   "execution_count": 28,
   "metadata": {},
   "outputs": [],
   "source": [
    "dict_res = dict()\n",
    "\n",
    "stat_sets = [['W'], ['W', 'L'], ['WHIP', 'OPS'], ['ERA', 'BA'], ['ERA', 'BA', 'W'], ['WHIP', 'OPS', 'W'], ['WHIP'], ['OPS']]\n",
    "\n",
    "for s in stat_sets:\n",
    "    avg_res = list()\n",
    "    for _ in range(150):\n",
    "        playoff_preds, accuracy, res = train_dec_tree(master_df_ranked, 2023, s, return_residuals=True)\n",
    "        avg_res.append(np.square(np.absolute(res)).sum())\n",
    "    \n",
    "    res = np.array(avg_res).mean()\n",
    "    dict_res[tuple(s)] = round(res, 2)"
   ]
  },
  {
   "cell_type": "code",
   "execution_count": 29,
   "metadata": {},
   "outputs": [
    {
     "data": {
      "image/png": "[encoded data removed]",
      "text/plain": [
       "<Figure size 1500x800 with 1 Axes>"
      ]
     },
     "metadata": {},
     "output_type": "display_data"
    }
   ],
   "source": [
    "dict_res_sorted = {str(k): v for k, v in sorted(dict_res.items(), key=lambda item: item[1])}\n",
    "\n",
    "plt.bar(dict_res_sorted.keys(), dict_res_sorted.values())\n",
    "plt.yticks(list(range(0, 110, 10)))\n",
    "\n",
    "plt.xlabel('Set of Stats Used', fontsize=16)\n",
    "plt.ylabel('Squared Residuals (lower is better)', fontsize=16)\n",
    "plt.gcf().set_size_inches(15, 8)\n",
    "plt.show()"
   ]
  },
  {
   "cell_type": "code",
   "execution_count": 25,
   "metadata": {},
   "outputs": [],
   "source": [
    "x_feat_list = list(master_df_ranked_playoffs.columns)[2:-1]\n",
    "correct_count = 0\n",
    "success_dict = {}\n",
    "num_trials = 10\n",
    "all_preds = pd.DataFrame()\n",
    "for trials in range(num_trials):\n",
    "    random_stats = random.sample(x_feat_list, 3)\n",
    "    # run 25 decision trees (one for every season since 1999) on 3 randomly chosen stats\n",
    "    for year in range(1999, 2024):\n",
    "        playoff_preds, accuracy = train_dec_tree(master_df_ranked, year, random_stats)\n",
    "        for idx, row in playoff_preds.iterrows():\n",
    "            if row[1] == 5 & row[2] == 5:\n",
    "                correct_count += 1\n",
    "        \n",
    "    success_dict[str(random_stats)] = round(correct_count / 25, 2)\n",
    "    correct_count = 0\n",
    "    \n",
    "# run 25 decision trees (one for every season since 1999) on all predictor stats\n",
    "for year in range(1999, 2024):\n",
    "    playoff_preds, accuracy = train_dec_tree(master_df_ranked, year, x_feat_list)\n",
    "    for idx, row in playoff_preds.iterrows():\n",
    "        if row[1] == 5 & row[2] == 5:\n",
    "            correct_count += 1\n",
    "        \n",
    "acc = correct_count / 25\n",
    "success_dict['All Stats'] = round(correct_count / 25, 2)"
   ]
  },
  {
   "cell_type": "code",
   "execution_count": 26,
   "metadata": {},
   "outputs": [
    {
     "data": {
      "image/png": "[encoded data removed]",
      "text/plain": [
       "<Figure size 1800x576 with 1 Axes>"
      ]
     },
     "metadata": {
      "needs_background": "light"
     },
     "output_type": "display_data"
    }
   ],
   "source": [
    "# plot results from cell above\n",
    "plt.bar(success_dict.keys(), success_dict.values())\n",
    "plt.xlabel('Team Stats', fontsize=16)\n",
    "plt.ylabel('WS Champion Decision Tree Prediction Success Ratio', fontsize=16)\n",
    "plt.title('Success of Stats at Individually Predicting WS Champions', fontsize=20)\n",
    "plt.gcf().set_size_inches(25, 8)\n",
    "plt.show()\n",
    "plt.show()"
   ]
  },
  {
   "cell_type": "markdown",
   "metadata": {},
   "source": [
    "## Discussion"
   ]
  },
  {
   "cell_type": "markdown",
   "metadata": {},
   "source": [
    "The baseline is regular season wins, since regular wins corresponds to seeding for the postseason, and at least hypothetically, the lower seeded teams beat the higher seeded teams.\n",
    "\n",
    "Using every single team batting and pitching statistic in the decision tree does not yield better results than regular season wins. Of the last 25 World Series champions, our cross validated decision trees predicted only three of them correct on average: that's just 12%. On the other hand, six of the last 25 champions led the league in regular season wins. Fun fact: three of them were the Red Sox.\n",
    "\n",
    "If this is going to work, we have to be more selected with which stats we use. We ran a random forest regressor to determine feature importance for predicting postseason success, and discovered that some stats, including doubles (2B), stolen bases (SB), and on base plus slugging (OPS) are very relevant. Unfortunately, creating decision trees with just these more relevant stats (and a few others) didn't actually improve our ability to predict postseason winners. Maybe it's time to try something a bit different.\n",
    "\n",
    "Instead of thinking of our Playoff Success variable as categorical, namely which round of the playoffs did a team make it to, what if we think of it as quantitative? The variable can just as easily represent \"number of playoff series a team appeared in\". One catch with this line of thinking is that the champions, who are given a score of 5, as opposed to 4, don't actually appear in an extra series. Unless you count the traditional White House visit as a series, but that seems like a stretch. However, since our decision trees don't just predict who wins it all, but also what round teams might get eliminated, we can compare the squared absolute value of the differences between actual playoff success and predicted success for each team. Basically, squared residuals. This gets us a positive integer score, where a score of 0 means that the model got everything correct, and a decision tree that is only using wins (W) will yield a score of 70.\n",
    "\n",
    "Our base list of stats contained OPS and walks plus hits divided by innings pitched (WHIP), which is a quality measure of how efficient and effective a team's pitchers are. Over 150 iterations, OPS and WHIP produced an average score of just over 55. This may change between runs, because decision tree classifiers are not deterministic. But, that's promising. We might be able to predict overall playoffs success, even if we can't predict exactly who will win the World Series.\n",
    "\n",
    "There are many combinations of statistics that produce results far worse than the 70 that is our baseline. Take batting average (BA) and earned run averaged (ERA), which are sort of less complicated versions of OPS and WHIP, respectively. They produced a ludicrously high score of almost 104. But interestingly, if you add wins in, the score is only 69, whereas wins combined with OPS and WHIP yields 75.6.\n",
    "\n",
    "Ultimately, we can't predict who's going to win the World Series. But, we might be able to predict the overall trend of a postseason better than wins can, and we can do it using only two stats: one offensive, one defensive. That's pretty cool.\n",
    "\n",
    "Pitfalls and Plans\n",
    "There's plenty that can go wrong here. We're using some handwaving to treat a categorical variable as a quantitative one, and while it may not be that big of an issue in this particular case, it would be a good idea to come up with a more traditional method of postseason success that's more quantitative, like postseason wins. Another potential flaw is our method of standardizing data across seasons. The league has changed over time, and the spread of statistics have changed with it. We changed each statistic to an integer representing each team's rank in each stat, but there may be better ways to go about it. For example, using standardization to produce something akin to z-scores could allow outliers to remain outliers while still accounting for the evolution of baseball over time.\n",
    "\n"
   ]
  }
 ],
 "metadata": {
  "colab": {
   "collapsed_sections": [],
   "provenance": []
  },
  "kernelspec": {
   "display_name": "Python 3 (ipykernel)",
   "language": "python",
   "name": "python3"
  },
  "language_info": {
   "codemirror_mode": {
    "name": "ipython",
    "version": 3
   },
   "file_extension": ".py",
   "mimetype": "text/x-python",
   "name": "python",
   "nbconvert_exporter": "python",
   "pygments_lexer": "ipython3",
   "version": "3.9.13"
  }
 },
 "nbformat": 4,
 "nbformat_minor": 4
}
